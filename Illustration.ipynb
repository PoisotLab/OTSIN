{
 "cells": [
  {
   "cell_type": "code",
   "execution_count": 1,
   "metadata": {},
   "outputs": [
    {
     "name": "stderr",
     "output_type": "stream",
     "text": [
      "┌ Info: Recompiling stale cache file /Users/michielstock/.julia/compiled/v1.0/EcologicalNetworksPlots/UMZhI.ji for EcologicalNetworksPlots [9f7a259d-73a7-556d-a7a2-3eb122d3865b]\n",
      "└ @ Base loading.jl:1190\n"
     ]
    }
   ],
   "source": [
    "using Plots, EcologicalNetworks, OTSIN, EcologicalNetworksPlots"
   ]
  },
  {
   "cell_type": "code",
   "execution_count": 2,
   "metadata": {},
   "outputs": [
    {
     "data": {
      "text/plain": [
       "5×5 Array{Int64,2}:\n",
       " 1  1  1  0  0\n",
       " 1  1  0  0  0\n",
       " 0  0  0  1  1\n",
       " 0  0  1  1  0\n",
       " 0  0  1  0  0"
      ]
     },
     "execution_count": 2,
     "metadata": {},
     "output_type": "execute_result"
    }
   ],
   "source": [
    "M = [1 1 1 0 0;\n",
    "     1 1 0 0 0;\n",
    "     0 0 0 1 1;\n",
    "     0 0 1 1 0;\n",
    "     0 0 1 0 0]"
   ]
  },
  {
   "cell_type": "code",
   "execution_count": 3,
   "metadata": {},
   "outputs": [
    {
     "data": {
      "image/svg+xml": [
       "<?xml version=\"1.0\" encoding=\"utf-8\"?>\n",
       "<svg xmlns=\"http://www.w3.org/2000/svg\" xmlns:xlink=\"http://www.w3.org/1999/xlink\" width=\"600\" height=\"400\" viewBox=\"0 0 2400 1600\">\n",
       "<defs>\n",
       "  <clipPath id=\"clip5800\">\n",
       "    <rect x=\"0\" y=\"0\" width=\"2400\" height=\"1600\"/>\n",
       "  </clipPath>\n",
       "</defs>\n",
       "<polygon clip-path=\"url(#clip5800)\" points=\"\n",
       "0,1600 2400,1600 2400,0 0,0 \n",
       "  \" fill=\"#ffffff\" fill-rule=\"evenodd\" fill-opacity=\"1\"/>\n",
       "<defs>\n",
       "  <clipPath id=\"clip5801\">\n",
       "    <rect x=\"480\" y=\"0\" width=\"1681\" height=\"1600\"/>\n",
       "  </clipPath>\n",
       "</defs>\n",
       "<polygon clip-path=\"url(#clip5800)\" points=\"\n",
       "153.898,1487.47 2352.76,1487.47 2352.76,121.675 153.898,121.675 \n",
       "  \" fill=\"#ffffff\" fill-rule=\"evenodd\" fill-opacity=\"1\"/>\n",
       "<defs>\n",
       "  <clipPath id=\"clip5802\">\n",
       "    <rect x=\"153\" y=\"121\" width=\"2200\" height=\"1367\"/>\n",
       "  </clipPath>\n",
       "</defs>\n",
       "<g clip-path=\"url(#clip5800)\">\n",
       "<text style=\"fill:#000000; fill-opacity:1; font-family:Arial,Helvetica Neue,Helvetica,sans-serif; font-size:84px; text-anchor:middle;\" transform=\"rotate(0, 1253.33, 73.2)\" x=\"1253.33\" y=\"73.2\">Allowed interactions</text>\n",
       "</g>\n",
       "<polyline clip-path=\"url(#clip5802)\" style=\"stroke:#a9a9a9; stroke-width:4; stroke-opacity:1; fill:none\" points=\"\n",
       "  776.108,160.33 1491.94,1448.82 \n",
       "  \"/>\n",
       "<polyline clip-path=\"url(#clip5802)\" style=\"stroke:#a9a9a9; stroke-width:4; stroke-opacity:1; fill:none\" points=\"\n",
       "  1253.33,160.33 1491.94,1448.82 \n",
       "  \"/>\n",
       "<polyline clip-path=\"url(#clip5802)\" style=\"stroke:#a9a9a9; stroke-width:4; stroke-opacity:1; fill:none\" points=\"\n",
       "  776.108,160.33 1253.33,1448.82 \n",
       "  \"/>\n",
       "<polyline clip-path=\"url(#clip5802)\" style=\"stroke:#a9a9a9; stroke-width:4; stroke-opacity:1; fill:none\" points=\"\n",
       "  1253.33,160.33 1253.33,1448.82 \n",
       "  \"/>\n",
       "<polyline clip-path=\"url(#clip5802)\" style=\"stroke:#a9a9a9; stroke-width:4; stroke-opacity:1; fill:none\" points=\"\n",
       "  776.108,160.33 776.108,1448.82 \n",
       "  \"/>\n",
       "<polyline clip-path=\"url(#clip5802)\" style=\"stroke:#a9a9a9; stroke-width:4; stroke-opacity:1; fill:none\" points=\"\n",
       "  776.108,1448.82 1491.94,160.33 \n",
       "  \"/>\n",
       "<polyline clip-path=\"url(#clip5802)\" style=\"stroke:#a9a9a9; stroke-width:4; stroke-opacity:1; fill:none\" points=\"\n",
       "  776.108,1448.82 1730.55,160.33 \n",
       "  \"/>\n",
       "<polyline clip-path=\"url(#clip5802)\" style=\"stroke:#a9a9a9; stroke-width:4; stroke-opacity:1; fill:none\" points=\"\n",
       "  1014.72,160.33 1014.72,1448.82 \n",
       "  \"/>\n",
       "<polyline clip-path=\"url(#clip5802)\" style=\"stroke:#a9a9a9; stroke-width:4; stroke-opacity:1; fill:none\" points=\"\n",
       "  1014.72,1448.82 1491.94,160.33 \n",
       "  \"/>\n",
       "<polyline clip-path=\"url(#clip5802)\" style=\"stroke:#a9a9a9; stroke-width:4; stroke-opacity:1; fill:none\" points=\"\n",
       "  1014.72,160.33 1730.55,1448.82 \n",
       "  \"/>\n",
       "<circle clip-path=\"url(#clip5802)\" style=\"fill:#000000; stroke:none; fill-opacity:1\" cx=\"776.108\" cy=\"160.33\" r=\"18\"/>\n",
       "<circle clip-path=\"url(#clip5802)\" style=\"fill:#ffffff; stroke:none; fill-opacity:1\" cx=\"776.108\" cy=\"160.33\" r=\"14\"/>\n",
       "<circle clip-path=\"url(#clip5802)\" style=\"fill:#000000; stroke:none; fill-opacity:1\" cx=\"1253.33\" cy=\"160.33\" r=\"18\"/>\n",
       "<circle clip-path=\"url(#clip5802)\" style=\"fill:#ffffff; stroke:none; fill-opacity:1\" cx=\"1253.33\" cy=\"160.33\" r=\"14\"/>\n",
       "<circle clip-path=\"url(#clip5802)\" style=\"fill:#000000; stroke:none; fill-opacity:1\" cx=\"1014.72\" cy=\"160.33\" r=\"18\"/>\n",
       "<circle clip-path=\"url(#clip5802)\" style=\"fill:#ffffff; stroke:none; fill-opacity:1\" cx=\"1014.72\" cy=\"160.33\" r=\"14\"/>\n",
       "<circle clip-path=\"url(#clip5802)\" style=\"fill:#000000; stroke:none; fill-opacity:1\" cx=\"1491.94\" cy=\"160.33\" r=\"18\"/>\n",
       "<circle clip-path=\"url(#clip5802)\" style=\"fill:#ffffff; stroke:none; fill-opacity:1\" cx=\"1491.94\" cy=\"160.33\" r=\"14\"/>\n",
       "<circle clip-path=\"url(#clip5802)\" style=\"fill:#000000; stroke:none; fill-opacity:1\" cx=\"1730.55\" cy=\"160.33\" r=\"18\"/>\n",
       "<circle clip-path=\"url(#clip5802)\" style=\"fill:#ffffff; stroke:none; fill-opacity:1\" cx=\"1730.55\" cy=\"160.33\" r=\"14\"/>\n",
       "<polygon clip-path=\"url(#clip5802)\" style=\"fill:#000000; fill-opacity:1\" points=\"\n",
       "  1471.94,1428.82 1471.94,1468.82 1511.94,1468.82 1511.94,1428.82 1471.94,1428.82 \n",
       "  \"/>\n",
       "<polygon clip-path=\"url(#clip5802)\" style=\"fill:#ffffff; fill-opacity:1\" points=\"\n",
       "  1475.94,1432.82 1475.94,1464.82 1507.94,1464.82 1507.94,1432.82 1475.94,1432.82 \n",
       "  \"/>\n",
       "<polygon clip-path=\"url(#clip5802)\" style=\"fill:#000000; fill-opacity:1\" points=\"\n",
       "  1233.33,1428.82 1233.33,1468.82 1273.33,1468.82 1273.33,1428.82 1233.33,1428.82 \n",
       "  \"/>\n",
       "<polygon clip-path=\"url(#clip5802)\" style=\"fill:#ffffff; fill-opacity:1\" points=\"\n",
       "  1237.33,1432.82 1237.33,1464.82 1269.33,1464.82 1269.33,1432.82 1237.33,1432.82 \n",
       "  \"/>\n",
       "<polygon clip-path=\"url(#clip5802)\" style=\"fill:#000000; fill-opacity:1\" points=\"\n",
       "  756.108,1428.82 756.108,1468.82 796.108,1468.82 796.108,1428.82 756.108,1428.82 \n",
       "  \"/>\n",
       "<polygon clip-path=\"url(#clip5802)\" style=\"fill:#ffffff; fill-opacity:1\" points=\"\n",
       "  760.108,1432.82 760.108,1464.82 792.108,1464.82 792.108,1432.82 760.108,1432.82 \n",
       "  \"/>\n",
       "<polygon clip-path=\"url(#clip5802)\" style=\"fill:#000000; fill-opacity:1\" points=\"\n",
       "  994.718,1428.82 994.718,1468.82 1034.72,1468.82 1034.72,1428.82 994.718,1428.82 \n",
       "  \"/>\n",
       "<polygon clip-path=\"url(#clip5802)\" style=\"fill:#ffffff; fill-opacity:1\" points=\"\n",
       "  998.718,1432.82 998.718,1464.82 1030.72,1464.82 1030.72,1432.82 998.718,1432.82 \n",
       "  \"/>\n",
       "<polygon clip-path=\"url(#clip5802)\" style=\"fill:#000000; fill-opacity:1\" points=\"\n",
       "  1710.55,1428.82 1710.55,1468.82 1750.55,1468.82 1750.55,1428.82 1710.55,1428.82 \n",
       "  \"/>\n",
       "<polygon clip-path=\"url(#clip5802)\" style=\"fill:#ffffff; fill-opacity:1\" points=\"\n",
       "  1714.55,1432.82 1714.55,1464.82 1746.55,1464.82 1746.55,1432.82 1714.55,1432.82 \n",
       "  \"/>\n",
       "</svg>\n"
      ]
     },
     "execution_count": 3,
     "metadata": {},
     "output_type": "execute_result"
    }
   ],
   "source": [
    "N = BipartiteNetwork(M.==1)\n",
    "\n",
    "I = initial(BipartiteInitialLayout, N)\n",
    "position!(NestedBipartiteLayout(0.9), I, N)\n",
    "plot_connection = plot(I, N, aspectratio=1.5, title=\"Allowed interactions\")\n",
    "scatter!(I, N, bipartite=true)"
   ]
  },
  {
   "cell_type": "code",
   "execution_count": 30,
   "metadata": {},
   "outputs": [],
   "source": [
    "n, m = size(M)\n",
    "a, b = ones(n)/n, ones(m)/m\n",
    "\n",
    "P_unif = optimaltransport(M, a, b, λ=100)\n",
    "P_unif[P_unif .< 1e-3] .= 0;"
   ]
  },
  {
   "cell_type": "code",
   "execution_count": 31,
   "metadata": {},
   "outputs": [
    {
     "data": {
      "text/plain": [
       "5×5 Array{Float64,2}:\n",
       " 0.0999932  0.0999932  0.0       0.0      0.0\n",
       " 0.100007   0.100007   0.0       0.0      0.0\n",
       " 0.0        0.0        0.0       0.0      0.2\n",
       " 0.0        0.0        0.0       0.19981  0.0\n",
       " 0.0        0.0        0.199793  0.0      0.0"
      ]
     },
     "execution_count": 31,
     "metadata": {},
     "output_type": "execute_result"
    }
   ],
   "source": [
    "P_unif"
   ]
  },
  {
   "cell_type": "code",
   "execution_count": 32,
   "metadata": {},
   "outputs": [
    {
     "data": {
      "image/svg+xml": [
       "<?xml version=\"1.0\" encoding=\"utf-8\"?>\n",
       "<svg xmlns=\"http://www.w3.org/2000/svg\" xmlns:xlink=\"http://www.w3.org/1999/xlink\" width=\"600\" height=\"400\" viewBox=\"0 0 2400 1600\">\n",
       "<defs>\n",
       "  <clipPath id=\"clip9600\">\n",
       "    <rect x=\"0\" y=\"0\" width=\"2400\" height=\"1600\"/>\n",
       "  </clipPath>\n",
       "</defs>\n",
       "<polygon clip-path=\"url(#clip9600)\" points=\"\n",
       "0,1600 2400,1600 2400,0 0,0 \n",
       "  \" fill=\"#ffffff\" fill-rule=\"evenodd\" fill-opacity=\"1\"/>\n",
       "<defs>\n",
       "  <clipPath id=\"clip9601\">\n",
       "    <rect x=\"480\" y=\"0\" width=\"1681\" height=\"1600\"/>\n",
       "  </clipPath>\n",
       "</defs>\n",
       "<polygon clip-path=\"url(#clip9600)\" points=\"\n",
       "161.898,1495.86 2352.76,1495.86 2352.76,153.712 161.898,153.712 \n",
       "  \" fill=\"#ffffff\" fill-rule=\"evenodd\" fill-opacity=\"1\"/>\n",
       "<defs>\n",
       "  <clipPath id=\"clip9602\">\n",
       "    <rect x=\"161\" y=\"153\" width=\"2192\" height=\"1343\"/>\n",
       "  </clipPath>\n",
       "</defs>\n",
       "<g clip-path=\"url(#clip9600)\">\n",
       "<text style=\"fill:#000000; fill-opacity:1; font-family:Arial,Helvetica Neue,Helvetica,sans-serif; font-size:84px; text-anchor:middle;\" transform=\"rotate(0, 1257.33, 73.2)\" x=\"1257.33\" y=\"73.2\">Optimal coupling</text>\n",
       "</g>\n",
       "<g clip-path=\"url(#clip9600)\">\n",
       "<text style=\"fill:#000000; fill-opacity:1; font-family:Arial,Helvetica Neue,Helvetica,sans-serif; font-size:84px; text-anchor:middle;\" transform=\"rotate(0, 1257.33, 163.92)\" x=\"1257.33\" y=\"163.92\"> unif. sp. distr.</text>\n",
       "</g>\n",
       "<polyline clip-path=\"url(#clip9602)\" style=\"stroke:#a9a9a9; stroke-width:2; stroke-opacity:1; fill:none\" points=\"\n",
       "  788.373,191.697 1491.8,1457.87 \n",
       "  \"/>\n",
       "<polyline clip-path=\"url(#clip9602)\" style=\"stroke:#a9a9a9; stroke-width:2.00163; stroke-opacity:1; fill:none\" points=\"\n",
       "  1257.33,191.697 1491.8,1457.87 \n",
       "  \"/>\n",
       "<polyline clip-path=\"url(#clip9602)\" style=\"stroke:#a9a9a9; stroke-width:2; stroke-opacity:1; fill:none\" points=\"\n",
       "  788.373,191.697 1257.33,1457.87 \n",
       "  \"/>\n",
       "<polyline clip-path=\"url(#clip9602)\" style=\"stroke:#a9a9a9; stroke-width:2.00163; stroke-opacity:1; fill:none\" points=\"\n",
       "  1257.33,191.697 1257.33,1457.87 \n",
       "  \"/>\n",
       "<polyline clip-path=\"url(#clip9602)\" style=\"stroke:#a9a9a9; stroke-width:13.9751; stroke-opacity:1; fill:none\" points=\"\n",
       "  788.373,1457.87 1726.28,191.697 \n",
       "  \"/>\n",
       "<polyline clip-path=\"url(#clip9602)\" style=\"stroke:#a9a9a9; stroke-width:13.9773; stroke-opacity:1; fill:none\" points=\"\n",
       "  1022.85,1457.87 1491.8,191.697 \n",
       "  \"/>\n",
       "<polyline clip-path=\"url(#clip9602)\" style=\"stroke:#a9a9a9; stroke-width:14; stroke-opacity:1; fill:none\" points=\"\n",
       "  1022.85,191.697 1726.28,1457.87 \n",
       "  \"/>\n",
       "<circle clip-path=\"url(#clip9602)\" style=\"fill:#000000; stroke:none; fill-opacity:1\" cx=\"788.373\" cy=\"191.697\" r=\"18\"/>\n",
       "<circle clip-path=\"url(#clip9602)\" style=\"fill:#000000; stroke:none; fill-opacity:0\" cx=\"788.373\" cy=\"191.697\" r=\"14\"/>\n",
       "<circle clip-path=\"url(#clip9602)\" style=\"fill:#000000; stroke:none; fill-opacity:1\" cx=\"1257.33\" cy=\"191.697\" r=\"18\"/>\n",
       "<circle clip-path=\"url(#clip9602)\" style=\"fill:#000000; stroke:none; fill-opacity:0\" cx=\"1257.33\" cy=\"191.697\" r=\"14\"/>\n",
       "<circle clip-path=\"url(#clip9602)\" style=\"fill:#000000; stroke:none; fill-opacity:1\" cx=\"1022.85\" cy=\"191.697\" r=\"18\"/>\n",
       "<circle clip-path=\"url(#clip9602)\" style=\"fill:#000000; stroke:none; fill-opacity:0\" cx=\"1022.85\" cy=\"191.697\" r=\"14\"/>\n",
       "<circle clip-path=\"url(#clip9602)\" style=\"fill:#000000; stroke:none; fill-opacity:1\" cx=\"1491.8\" cy=\"191.697\" r=\"18\"/>\n",
       "<circle clip-path=\"url(#clip9602)\" style=\"fill:#000000; stroke:none; fill-opacity:0\" cx=\"1491.8\" cy=\"191.697\" r=\"14\"/>\n",
       "<circle clip-path=\"url(#clip9602)\" style=\"fill:#000000; stroke:none; fill-opacity:1\" cx=\"1726.28\" cy=\"191.697\" r=\"18\"/>\n",
       "<circle clip-path=\"url(#clip9602)\" style=\"fill:#000000; stroke:none; fill-opacity:0\" cx=\"1726.28\" cy=\"191.697\" r=\"14\"/>\n",
       "<polygon clip-path=\"url(#clip9602)\" style=\"fill:#000000; fill-opacity:1\" points=\"\n",
       "  1471.8,1437.87 1471.8,1477.87 1511.8,1477.87 1511.8,1437.87 1471.8,1437.87 \n",
       "  \"/>\n",
       "<polygon clip-path=\"url(#clip9602)\" style=\"fill:#000000; fill-opacity:0\" points=\"\n",
       "  1475.8,1441.87 1475.8,1473.87 1507.8,1473.87 1507.8,1441.87 1475.8,1441.87 \n",
       "  \"/>\n",
       "<polygon clip-path=\"url(#clip9602)\" style=\"fill:#000000; fill-opacity:1\" points=\"\n",
       "  1237.33,1437.87 1237.33,1477.87 1277.33,1477.87 1277.33,1437.87 1237.33,1437.87 \n",
       "  \"/>\n",
       "<polygon clip-path=\"url(#clip9602)\" style=\"fill:#000000; fill-opacity:0\" points=\"\n",
       "  1241.33,1441.87 1241.33,1473.87 1273.33,1473.87 1273.33,1441.87 1241.33,1441.87 \n",
       "  \"/>\n",
       "<polygon clip-path=\"url(#clip9602)\" style=\"fill:#000000; fill-opacity:1\" points=\"\n",
       "  768.373,1437.87 768.373,1477.87 808.373,1477.87 808.373,1437.87 768.373,1437.87 \n",
       "  \"/>\n",
       "<polygon clip-path=\"url(#clip9602)\" style=\"fill:#000000; fill-opacity:0\" points=\"\n",
       "  772.373,1441.87 772.373,1473.87 804.373,1473.87 804.373,1441.87 772.373,1441.87 \n",
       "  \"/>\n",
       "<polygon clip-path=\"url(#clip9602)\" style=\"fill:#000000; fill-opacity:1\" points=\"\n",
       "  1002.85,1437.87 1002.85,1477.87 1042.85,1477.87 1042.85,1437.87 1002.85,1437.87 \n",
       "  \"/>\n",
       "<polygon clip-path=\"url(#clip9602)\" style=\"fill:#000000; fill-opacity:0\" points=\"\n",
       "  1006.85,1441.87 1006.85,1473.87 1038.85,1473.87 1038.85,1441.87 1006.85,1441.87 \n",
       "  \"/>\n",
       "<polygon clip-path=\"url(#clip9602)\" style=\"fill:#000000; fill-opacity:1\" points=\"\n",
       "  1706.28,1437.87 1706.28,1477.87 1746.28,1477.87 1746.28,1437.87 1706.28,1437.87 \n",
       "  \"/>\n",
       "<polygon clip-path=\"url(#clip9602)\" style=\"fill:#000000; fill-opacity:0\" points=\"\n",
       "  1710.28,1441.87 1710.28,1473.87 1742.28,1473.87 1742.28,1441.87 1710.28,1441.87 \n",
       "  \"/>\n",
       "</svg>\n"
      ]
     },
     "execution_count": 32,
     "metadata": {},
     "output_type": "execute_result"
    }
   ],
   "source": [
    "Nunif = BipartiteQuantitativeNetwork(P_unif)\n",
    "I = initial(BipartiteInitialLayout, N)\n",
    "position!(NestedBipartiteLayout(0.9), I, N)\n",
    "plot_unif = plot(I, Nunif, aspectratio=1.5, title=\"Optimal coupling\\n unif. sp. distr.\")\n",
    "scatter!(I, Nunif, bipartite=true, nodefill=Dict(sp => 0.2 for sp in species(Nunif)), markercolor=:Greens)"
   ]
  },
  {
   "cell_type": "code",
   "execution_count": 34,
   "metadata": {},
   "outputs": [],
   "source": [
    "a, b = [0.1, 0.15, 0.3, 0.25, 0.2], [0.25, 0.15, 0.1, 0.3, 0.2]\n",
    "\n",
    "@assert sum(a) ≈ sum(b)\n",
    "\n",
    "P_nonunif = optimaltransport(M, a, b, λ=100)\n",
    "P_nonunif[P_nonunif .< 1e-4] .= 0;"
   ]
  },
  {
   "cell_type": "code",
   "execution_count": 35,
   "metadata": {
    "scrolled": true
   },
   "outputs": [
    {
     "data": {
      "text/plain": [
       "5×5 Array{Float64,2}:\n",
       " 0.0625018   0.0375011   0.0        0.0        0.0\n",
       " 0.0937527   0.0562516   0.0        0.0        0.0\n",
       " 0.00624793  0.00374876  0.0        0.0899945  0.2\n",
       " 0.0145798   0.00874786  0.0166631  0.210006   0.0\n",
       " 0.0729178   0.0437507   0.0833369  0.0        0.0"
      ]
     },
     "execution_count": 35,
     "metadata": {},
     "output_type": "execute_result"
    }
   ],
   "source": [
    "P_nonunif"
   ]
  },
  {
   "cell_type": "code",
   "execution_count": 24,
   "metadata": {},
   "outputs": [
    {
     "data": {
      "image/svg+xml": [
       "<?xml version=\"1.0\" encoding=\"utf-8\"?>\n",
       "<svg xmlns=\"http://www.w3.org/2000/svg\" xmlns:xlink=\"http://www.w3.org/1999/xlink\" width=\"600\" height=\"400\" viewBox=\"0 0 2400 1600\">\n",
       "<defs>\n",
       "  <clipPath id=\"clip9100\">\n",
       "    <rect x=\"0\" y=\"0\" width=\"2400\" height=\"1600\"/>\n",
       "  </clipPath>\n",
       "</defs>\n",
       "<polygon clip-path=\"url(#clip9100)\" points=\"\n",
       "0,1600 2400,1600 2400,0 0,0 \n",
       "  \" fill=\"#ffffff\" fill-rule=\"evenodd\" fill-opacity=\"1\"/>\n",
       "<defs>\n",
       "  <clipPath id=\"clip9101\">\n",
       "    <rect x=\"480\" y=\"0\" width=\"1681\" height=\"1600\"/>\n",
       "  </clipPath>\n",
       "</defs>\n",
       "<polygon clip-path=\"url(#clip9100)\" points=\"\n",
       "153.898,1487.47 2352.76,1487.47 2352.76,183.952 153.898,183.952 \n",
       "  \" fill=\"#ffffff\" fill-rule=\"evenodd\" fill-opacity=\"1\"/>\n",
       "<defs>\n",
       "  <clipPath id=\"clip9102\">\n",
       "    <rect x=\"153\" y=\"183\" width=\"2200\" height=\"1305\"/>\n",
       "  </clipPath>\n",
       "</defs>\n",
       "<g clip-path=\"url(#clip9100)\">\n",
       "<text style=\"fill:#000000; fill-opacity:1; font-family:Arial,Helvetica Neue,Helvetica,sans-serif; font-size:84px; text-anchor:middle;\" transform=\"rotate(0, 1253.33, 73.2)\" x=\"1253.33\" y=\"73.2\">Optimal coupling</text>\n",
       "</g>\n",
       "<g clip-path=\"url(#clip9100)\">\n",
       "<text style=\"fill:#000000; fill-opacity:1; font-family:Arial,Helvetica Neue,Helvetica,sans-serif; font-size:84px; text-anchor:middle;\" transform=\"rotate(0, 1253.33, 163.92)\" x=\"1253.33\" y=\"163.92\"> non-unif. sp. distr.</text>\n",
       "</g>\n",
       "<polyline clip-path=\"url(#clip9102)\" style=\"stroke:#a9a9a9; stroke-width:5.41825; stroke-opacity:1; fill:none\" points=\"\n",
       "  797.868,220.844 1481.06,1450.58 \n",
       "  \"/>\n",
       "<polyline clip-path=\"url(#clip9102)\" style=\"stroke:#a9a9a9; stroke-width:7.23642; stroke-opacity:1; fill:none\" points=\"\n",
       "  1253.33,220.844 1481.06,1450.58 \n",
       "  \"/>\n",
       "<polyline clip-path=\"url(#clip9102)\" style=\"stroke:#a9a9a9; stroke-width:2.1454; stroke-opacity:1; fill:none\" points=\"\n",
       "  1025.6,220.844 1481.06,1450.58 \n",
       "  \"/>\n",
       "<polyline clip-path=\"url(#clip9102)\" style=\"stroke:#a9a9a9; stroke-width:2.63015; stroke-opacity:1; fill:none\" points=\"\n",
       "  1481.06,220.844 1481.06,1450.58 \n",
       "  \"/>\n",
       "<polyline clip-path=\"url(#clip9102)\" style=\"stroke:#a9a9a9; stroke-width:6.02425; stroke-opacity:1; fill:none\" points=\"\n",
       "  1481.06,1450.58 1708.79,220.844 \n",
       "  \"/>\n",
       "<polyline clip-path=\"url(#clip9102)\" style=\"stroke:#a9a9a9; stroke-width:3.96371; stroke-opacity:1; fill:none\" points=\"\n",
       "  797.868,220.844 1253.33,1450.58 \n",
       "  \"/>\n",
       "<polyline clip-path=\"url(#clip9102)\" style=\"stroke:#a9a9a9; stroke-width:5.05461; stroke-opacity:1; fill:none\" points=\"\n",
       "  1253.33,220.844 1253.33,1450.58 \n",
       "  \"/>\n",
       "<polyline clip-path=\"url(#clip9102)\" style=\"stroke:#a9a9a9; stroke-width:2; stroke-opacity:1; fill:none\" points=\"\n",
       "  1025.6,220.844 1253.33,1450.58 \n",
       "  \"/>\n",
       "<polyline clip-path=\"url(#clip9102)\" style=\"stroke:#a9a9a9; stroke-width:2.29085; stroke-opacity:1; fill:none\" points=\"\n",
       "  1253.33,1450.58 1481.06,220.844 \n",
       "  \"/>\n",
       "<polyline clip-path=\"url(#clip9102)\" style=\"stroke:#a9a9a9; stroke-width:4.32731; stroke-opacity:1; fill:none\" points=\"\n",
       "  1253.33,1450.58 1708.79,220.844 \n",
       "  \"/>\n",
       "<polyline clip-path=\"url(#clip9102)\" style=\"stroke:#a9a9a9; stroke-width:2.75135; stroke-opacity:1; fill:none\" points=\"\n",
       "  797.868,1450.58 1481.06,220.844 \n",
       "  \"/>\n",
       "<polyline clip-path=\"url(#clip9102)\" style=\"stroke:#a9a9a9; stroke-width:6.63043; stroke-opacity:1; fill:none\" points=\"\n",
       "  797.868,1450.58 1708.79,220.844 \n",
       "  \"/>\n",
       "<polyline clip-path=\"url(#clip9102)\" style=\"stroke:#a9a9a9; stroke-width:7.01777; stroke-opacity:1; fill:none\" points=\"\n",
       "  1025.6,220.844 1025.6,1450.58 \n",
       "  \"/>\n",
       "<polyline clip-path=\"url(#clip9102)\" style=\"stroke:#a9a9a9; stroke-width:14; stroke-opacity:1; fill:none\" points=\"\n",
       "  1025.6,1450.58 1481.06,220.844 \n",
       "  \"/>\n",
       "<polyline clip-path=\"url(#clip9102)\" style=\"stroke:#a9a9a9; stroke-width:13.4179; stroke-opacity:1; fill:none\" points=\"\n",
       "  1025.6,220.844 1708.79,1450.58 \n",
       "  \"/>\n",
       "<circle clip-path=\"url(#clip9102)\" style=\"fill:#000000; stroke:none; fill-opacity:1\" cx=\"797.868\" cy=\"220.844\" r=\"18\"/>\n",
       "<circle clip-path=\"url(#clip9102)\" style=\"fill:#c7e9c0; stroke:none; fill-opacity:1\" cx=\"797.868\" cy=\"220.844\" r=\"14\"/>\n",
       "<circle clip-path=\"url(#clip9102)\" style=\"fill:#000000; stroke:none; fill-opacity:1\" cx=\"1253.33\" cy=\"220.844\" r=\"18\"/>\n",
       "<circle clip-path=\"url(#clip9102)\" style=\"fill:#c7e9c0; stroke:none; fill-opacity:1\" cx=\"1253.33\" cy=\"220.844\" r=\"14\"/>\n",
       "<circle clip-path=\"url(#clip9102)\" style=\"fill:#000000; stroke:none; fill-opacity:1\" cx=\"1025.6\" cy=\"220.844\" r=\"18\"/>\n",
       "<circle clip-path=\"url(#clip9102)\" style=\"fill:#238b45; stroke:none; fill-opacity:1\" cx=\"1025.6\" cy=\"220.844\" r=\"14\"/>\n",
       "<circle clip-path=\"url(#clip9102)\" style=\"fill:#000000; stroke:none; fill-opacity:1\" cx=\"1481.06\" cy=\"220.844\" r=\"18\"/>\n",
       "<circle clip-path=\"url(#clip9102)\" style=\"fill:#238b45; stroke:none; fill-opacity:1\" cx=\"1481.06\" cy=\"220.844\" r=\"14\"/>\n",
       "<circle clip-path=\"url(#clip9102)\" style=\"fill:#000000; stroke:none; fill-opacity:1\" cx=\"1708.79\" cy=\"220.844\" r=\"18\"/>\n",
       "<circle clip-path=\"url(#clip9102)\" style=\"fill:#74c476; stroke:none; fill-opacity:1\" cx=\"1708.79\" cy=\"220.844\" r=\"14\"/>\n",
       "<polygon clip-path=\"url(#clip9102)\" style=\"fill:#000000; fill-opacity:1\" points=\"\n",
       "  1461.06,1430.58 1461.06,1470.58 1501.06,1470.58 1501.06,1430.58 1461.06,1430.58 \n",
       "  \"/>\n",
       "<polygon clip-path=\"url(#clip9102)\" style=\"fill:#00441b; fill-opacity:1\" points=\"\n",
       "  1465.06,1434.58 1465.06,1466.58 1497.06,1466.58 1497.06,1434.58 1465.06,1434.58 \n",
       "  \"/>\n",
       "<polygon clip-path=\"url(#clip9102)\" style=\"fill:#000000; fill-opacity:1\" points=\"\n",
       "  1233.33,1430.58 1233.33,1470.58 1273.33,1470.58 1273.33,1430.58 1233.33,1430.58 \n",
       "  \"/>\n",
       "<polygon clip-path=\"url(#clip9102)\" style=\"fill:#00441b; fill-opacity:1\" points=\"\n",
       "  1237.33,1434.58 1237.33,1466.58 1269.33,1466.58 1269.33,1434.58 1237.33,1434.58 \n",
       "  \"/>\n",
       "<polygon clip-path=\"url(#clip9102)\" style=\"fill:#000000; fill-opacity:1\" points=\"\n",
       "  777.868,1430.58 777.868,1470.58 817.868,1470.58 817.868,1430.58 777.868,1430.58 \n",
       "  \"/>\n",
       "<polygon clip-path=\"url(#clip9102)\" style=\"fill:#c7e9c0; fill-opacity:1\" points=\"\n",
       "  781.868,1434.58 781.868,1466.58 813.868,1466.58 813.868,1434.58 781.868,1434.58 \n",
       "  \"/>\n",
       "<polygon clip-path=\"url(#clip9102)\" style=\"fill:#000000; fill-opacity:1\" points=\"\n",
       "  1005.6,1430.58 1005.6,1470.58 1045.6,1470.58 1045.6,1430.58 1005.6,1430.58 \n",
       "  \"/>\n",
       "<polygon clip-path=\"url(#clip9102)\" style=\"fill:#c7e9c0; fill-opacity:1\" points=\"\n",
       "  1009.6,1434.58 1009.6,1466.58 1041.6,1466.58 1041.6,1434.58 1009.6,1434.58 \n",
       "  \"/>\n",
       "<polygon clip-path=\"url(#clip9102)\" style=\"fill:#000000; fill-opacity:1\" points=\"\n",
       "  1688.79,1430.58 1688.79,1470.58 1728.79,1470.58 1728.79,1430.58 1688.79,1430.58 \n",
       "  \"/>\n",
       "<polygon clip-path=\"url(#clip9102)\" style=\"fill:#f7fcf5; fill-opacity:1\" points=\"\n",
       "  1692.79,1434.58 1692.79,1466.58 1724.79,1466.58 1724.79,1434.58 1692.79,1434.58 \n",
       "  \"/>\n",
       "</svg>\n"
      ]
     },
     "execution_count": 24,
     "metadata": {},
     "output_type": "execute_result"
    }
   ],
   "source": [
    "Nnonunif = BipartiteQuantitativeNetwork(P_nonunif)\n",
    "I = initial(BipartiteInitialLayout, N)\n",
    "position!(NestedBipartiteLayout(0.9), I, N)\n",
    "plot_nonunif = plot(I, Nnonunif, aspectratio=1.5, title=\"Optimal coupling\\n non-unif. sp. distr.\")\n",
    "scatter!(I, Nnonunif, bipartite=true, nodefill=degree(Nnonunif), markercolor=:Greens)"
   ]
  },
  {
   "cell_type": "code",
   "execution_count": 25,
   "metadata": {},
   "outputs": [],
   "source": [
    "plot(plot_connection, plot_unif, plot_nonunif, layout=grid(1, 3), size=(800, 400))\n",
    "savefig(\"figures/illustration.pdf\")"
   ]
  },
  {
   "cell_type": "code",
   "execution_count": null,
   "metadata": {},
   "outputs": [],
   "source": []
  }
 ],
 "metadata": {
  "@webio": {
   "lastCommId": null,
   "lastKernelId": null
  },
  "kernelspec": {
   "display_name": "Julia 1.0.4",
   "language": "julia",
   "name": "julia-1.0"
  },
  "language_info": {
   "file_extension": ".jl",
   "mimetype": "application/julia",
   "name": "julia",
   "version": "1.0.4"
  }
 },
 "nbformat": 4,
 "nbformat_minor": 2
}
