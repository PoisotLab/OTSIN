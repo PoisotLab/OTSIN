{
 "cells": [
  {
   "cell_type": "code",
   "execution_count": 1,
   "metadata": {},
   "outputs": [
    {
     "name": "stderr",
     "output_type": "stream",
     "text": [
      "┌ Info: Recompiling stale cache file /Users/michielstock/.julia/compiled/v1.0/CSV/HHBkp.ji for CSV [336ed68f-0bac-5ca0-87d4-7b16caf5d00b]\n",
      "└ @ Base loading.jl:1190\n"
     ]
    }
   ],
   "source": [
    "using DataFrames, CSV\n",
    "using Plots, StatsPlots, Statistics"
   ]
  },
  {
   "cell_type": "code",
   "execution_count": 2,
   "metadata": {},
   "outputs": [
    {
     "name": "stderr",
     "output_type": "stream",
     "text": [
      "┌ Warning: `head(df::AbstractDataFrame)` is deprecated, use `first(df, 6)` instead.\n",
      "│   caller = top-level scope at In[2]:2\n",
      "└ @ Core In[2]:2\n"
     ]
    },
    {
     "data": {
      "text/html": [
       "<table class=\"data-frame\"><thead><tr><th></th><th>Host species</th><th>Region</th><th>no hosts sampled</th><th>Amalaraeus arvicolae</th><th>Amalaraeus dissimilis</th></tr><tr><th></th><th>String</th><th>String</th><th>Int64</th><th>Int64</th><th>Int64</th></tr></thead><tbody><p>6 rows × 209 columns (omitted printing of 204 columns)</p><tr><th>1</th><td>Apodemus mystacinus</td><td>Adzharia</td><td>375</td><td>0</td><td>0</td></tr><tr><th>2</th><td>Apodemus sylvaticus</td><td>Adzharia</td><td>5051</td><td>0</td><td>0</td></tr><tr><th>3</th><td>Chionomys nivalis</td><td>Adzharia</td><td>8</td><td>0</td><td>0</td></tr><tr><th>4</th><td>Cricetulus migratorius</td><td>Adzharia</td><td>68</td><td>0</td><td>0</td></tr><tr><th>5</th><td>Dryomys nitedula</td><td>Adzharia</td><td>34</td><td>0</td><td>0</td></tr><tr><th>6</th><td>Microtus arvalis</td><td>Adzharia</td><td>1345</td><td>0</td><td>0</td></tr></tbody></table>"
      ],
      "text/latex": [
       "\\begin{tabular}{r|cccccc}\n",
       "\t& Host species & Region & no hosts sampled & Amalaraeus arvicolae & Amalaraeus dissimilis & \\\\\n",
       "\t\\hline\n",
       "\t& String & String & Int64 & Int64 & Int64 & \\\\\n",
       "\t\\hline\n",
       "\t1 & Apodemus mystacinus & Adzharia & 375 & 0 & 0 & $\\dots$ \\\\\n",
       "\t2 & Apodemus sylvaticus & Adzharia & 5051 & 0 & 0 & $\\dots$ \\\\\n",
       "\t3 & Chionomys nivalis & Adzharia & 8 & 0 & 0 & $\\dots$ \\\\\n",
       "\t4 & Cricetulus migratorius & Adzharia & 68 & 0 & 0 & $\\dots$ \\\\\n",
       "\t5 & Dryomys nitedula & Adzharia & 34 & 0 & 0 & $\\dots$ \\\\\n",
       "\t6 & Microtus arvalis & Adzharia & 1345 & 0 & 0 & $\\dots$ \\\\\n",
       "\\end{tabular}\n"
      ],
      "text/plain": [
       "6×209 DataFrame. Omitted printing of 206 columns\n",
       "│ Row │ Host species           │ Region   │ no hosts sampled │\n",
       "│     │ \u001b[90mString\u001b[39m                 │ \u001b[90mString\u001b[39m   │ \u001b[90mInt64\u001b[39m            │\n",
       "├─────┼────────────────────────┼──────────┼──────────────────┤\n",
       "│ 1   │ Apodemus mystacinus    │ Adzharia │ 375              │\n",
       "│ 2   │ Apodemus sylvaticus    │ Adzharia │ 5051             │\n",
       "│ 3   │ Chionomys nivalis      │ Adzharia │ 8                │\n",
       "│ 4   │ Cricetulus migratorius │ Adzharia │ 68               │\n",
       "│ 5   │ Dryomys nitedula       │ Adzharia │ 34               │\n",
       "│ 6   │ Microtus arvalis       │ Adzharia │ 1345             │"
      ]
     },
     "execution_count": 2,
     "metadata": {},
     "output_type": "execute_result"
    }
   ],
   "source": [
    "dataset = CSV.read(\"data/HadfieldDoublePhyloData.csv\")\n",
    "first(dataset, 7)"
   ]
  },
  {
   "cell_type": "code",
   "execution_count": 3,
   "metadata": {},
   "outputs": [
    {
     "data": {
      "text/plain": [
       "51-element Array{String,1}:\n",
       " \"Adzharia\"          \n",
       " \"Akmolinsk\"         \n",
       " \"Altai\"             \n",
       " \"Amur\"              \n",
       " \"Amur-Bureya\"       \n",
       " \"Armenia\"           \n",
       " \"Central Yakutia\"   \n",
       " \"Chimkent\"          \n",
       " \"Dzhungarsky Alatau\"\n",
       " \"East Balkhash\"     \n",
       " \"East Pamir\"        \n",
       " \"Gissar\"            \n",
       " \"Guriev\"            \n",
       " ⋮                   \n",
       " \"Syugaty\"           \n",
       " \"Taimyr\"            \n",
       " \"Tarbagatai\"        \n",
       " \"Terskey-Alatau\"    \n",
       " \"Tomsk-Tumen\"       \n",
       " \"Trans-Ili Alatau\"  \n",
       " \"Turkmenistan\"      \n",
       " \"Tyva\"              \n",
       " \"Ural Valley\"       \n",
       " \"Ussury\"            \n",
       " \"Volga-Kama\"        \n",
       " \"Western Sayan\"     "
      ]
     },
     "execution_count": 3,
     "metadata": {},
     "output_type": "execute_result"
    }
   ],
   "source": [
    "regions = unique(Vector(dataset[:,:Region]))"
   ]
  },
  {
   "cell_type": "code",
   "execution_count": 9,
   "metadata": {
    "scrolled": true
   },
   "outputs": [
    {
     "data": {
      "text/plain": [
       "121-element Array{String,1}:\n",
       " \"Apodemus mystacinus\"         \n",
       " \"Apodemus sylvaticus\"         \n",
       " \"Chionomys nivalis\"           \n",
       " \"Cricetulus migratorius\"      \n",
       " \"Dryomys nitedula\"            \n",
       " \"Microtus arvalis\"            \n",
       " \"Microtus majori\"             \n",
       " \"Myoxus glis\"                 \n",
       " \"Prometheomys schaposchnikowi\"\n",
       " \"Sorex araneus\"               \n",
       " \"Allactaga major\"             \n",
       " \"Allocricetulus eversmanni\"   \n",
       " \"Apodemus uralensis\"          \n",
       " ⋮                             \n",
       " \"Microtus middendorffi\"       \n",
       " \"Myospalax myospalax\"         \n",
       " \"Spermophilus relictus\"       \n",
       " \"Talpa altaica\"               \n",
       " \"Sorex asper\"                 \n",
       " \"Blanfordimys afghanus\"       \n",
       " \"Calomyscus mystax\"           \n",
       " \"Microtus transcaspicus\"      \n",
       " \"Nesokia indica\"              \n",
       " \"Alticola barakshin\"          \n",
       " \"Cricetulus longicaudatus\"    \n",
       " \"Spermophilus suslicus\"       "
      ]
     },
     "execution_count": 9,
     "metadata": {},
     "output_type": "execute_result"
    }
   ],
   "source": [
    "hosts = unique(Vector(dataset[:, Symbol(\"Host species\")]))"
   ]
  },
  {
   "cell_type": "code",
   "execution_count": 10,
   "metadata": {},
   "outputs": [
    {
     "data": {
      "text/plain": [
       "206-element Array{Symbol,1}:\n",
       " Symbol(\"Amalaraeus arvicolae\")    \n",
       " Symbol(\"Amalaraeus dissimilis\")   \n",
       " Symbol(\"Amalaraeus ioffi\")        \n",
       " Symbol(\"Amalaraeus penicilliger\") \n",
       " Symbol(\"Amphalius runatus\")       \n",
       " Symbol(\"Amphipsylla anceps\")      \n",
       " Symbol(\"Amphipsylla argoi\")       \n",
       " Symbol(\"Amphipsylla asiatica\")    \n",
       " Symbol(\"Amphipsylla dumalis\")     \n",
       " Symbol(\"Amphipsylla georgica\")    \n",
       " Symbol(\"Amphipsylla kalabukhovi\") \n",
       " Symbol(\"Amphipsylla kuznetzovi\")  \n",
       " Symbol(\"Amphipsylla longispina\")  \n",
       " ⋮                                 \n",
       " Symbol(\"Wagnerina longicauda\")    \n",
       " Symbol(\"Wagnerina schelkovnikovi\")\n",
       " Symbol(\"Wagnerina tuvensis\")      \n",
       " Symbol(\"Xenopsylla cheopis\")      \n",
       " Symbol(\"Xenopsylla conformis\")    \n",
       " Symbol(\"Xenopsylla gerbilli\")     \n",
       " Symbol(\"Xenopsylla hirtipes\")     \n",
       " Symbol(\"Xenopsylla magdalinae\")   \n",
       " Symbol(\"Xenopsylla nubica\")       \n",
       " Symbol(\"Xenopsylla nuttalli\")     \n",
       " Symbol(\"Xenopsylla persica\")      \n",
       " Symbol(\"Xenopsylla skrjabini\")    "
      ]
     },
     "execution_count": 10,
     "metadata": {},
     "output_type": "execute_result"
    }
   ],
   "source": [
    "parasites = names(dataset)[4:end]"
   ]
  },
  {
   "cell_type": "code",
   "execution_count": 8,
   "metadata": {},
   "outputs": [
    {
     "data": {
      "text/plain": [
       "Dict{String,DataFrame} with 51 entries:\n",
       "  \"East Balkhash\"                 => 18×206 DataFrame. Omitted printing of 203 …\n",
       "  \"Sweden\"                        => 6×206 DataFrame. Omitted printing of 203 c…\n",
       "  \"North Kyrgyzstan\"              => 15×206 DataFrame. Omitted printing of 203 …\n",
       "  \"Khabarovsk\"                    => 6×206 DataFrame. Omitted printing of 203 c…\n",
       "  \"Ural Valley\"                   => 13×206 DataFrame. Omitted printing of 203 …\n",
       "  \"Akmolinsk\"                     => 18×206 DataFrame. Omitted printing of 203 …\n",
       "  \"Khasan\"                        => 6×206 DataFrame. Omitted printing of 203 c…\n",
       "  \"Pavlodar\"                      => 14×206 DataFrame. Omitted printing of 203 …\n",
       "  \"Syugaty\"                       => 8×206 DataFrame. Omitted printing of 203 c…\n",
       "  \"Kustanai\"                      => 16×206 DataFrame. Omitted printing of 203 …\n",
       "  \"Turkmenistan\"                  => 17×206 DataFrame. Omitted printing of 203 …\n",
       "  \"Mongolia-NorthWestern Khangay\" => 18×206 DataFrame. Omitted printing of 203 …\n",
       "  \"Kurgan\"                        => 16×206 DataFrame. Omitted printing of 203 …\n",
       "  \"Mongolia-Central Khangay\"      => 8×206 DataFrame. Omitted printing of 203 c…\n",
       "  \"Slovakia\"                      => 19×206 DataFrame. Omitted printing of 203 …\n",
       "  \"North Russian Far East\"        => 14×206 DataFrame. Omitted printing of 203 …\n",
       "  \"Moscow\"                        => 15×206 DataFrame. Omitted printing of 203 …\n",
       "  \"Tyva\"                          => 11×206 DataFrame. Omitted printing of 203 …\n",
       "  \"Altai\"                         => 23×206 DataFrame. Omitted printing of 203 …\n",
       "  \"Poland\"                        => 22×206 DataFrame. Omitted printing of 203 …\n",
       "  \"Amur\"                          => 6×206 DataFrame. Omitted printing of 203 c…\n",
       "  \"Chimkent\"                      => 8×206 DataFrame. Omitted printing of 203 c…\n",
       "  \"Selenga\"                       => 9×206 DataFrame. Omitted printing of 203 c…\n",
       "  \"Krasnojarsk\"                   => 9×206 DataFrame. Omitted printing of 203 c…\n",
       "  \"Adzharia\"                      => 10×206 DataFrame. Omitted printing of 203 …\n",
       "  ⋮                               => ⋮"
      ]
     },
     "execution_count": 8,
     "metadata": {},
     "output_type": "execute_result"
    }
   ],
   "source": [
    "networks = Dict(reg => dataset[dataset[:,:Region].==reg,4:end] for reg in regions)"
   ]
  },
  {
   "cell_type": "code",
   "execution_count": 6,
   "metadata": {},
   "outputs": [
    {
     "data": {
      "text/html": [
       "<table class=\"data-frame\"><thead><tr><th></th><th>Amalaraeus arvicolae</th><th>Amalaraeus dissimilis</th><th>Amalaraeus ioffi</th><th>Amalaraeus penicilliger</th></tr><tr><th></th><th>Int64</th><th>Int64</th><th>Int64</th><th>Int64</th></tr></thead><tbody><p>11 rows × 206 columns (omitted printing of 202 columns)</p><tr><th>1</th><td>0</td><td>0</td><td>0</td><td>0</td></tr><tr><th>2</th><td>0</td><td>0</td><td>0</td><td>0</td></tr><tr><th>3</th><td>0</td><td>0</td><td>0</td><td>0</td></tr><tr><th>4</th><td>0</td><td>0</td><td>0</td><td>0</td></tr><tr><th>5</th><td>0</td><td>0</td><td>0</td><td>0</td></tr><tr><th>6</th><td>0</td><td>0</td><td>0</td><td>0</td></tr><tr><th>7</th><td>0</td><td>0</td><td>0</td><td>0</td></tr><tr><th>8</th><td>0</td><td>0</td><td>0</td><td>0</td></tr><tr><th>9</th><td>0</td><td>0</td><td>0</td><td>0</td></tr><tr><th>10</th><td>0</td><td>0</td><td>0</td><td>0</td></tr><tr><th>11</th><td>0</td><td>0</td><td>0</td><td>0</td></tr></tbody></table>"
      ],
      "text/latex": [
       "\\begin{tabular}{r|ccccc}\n",
       "\t& Amalaraeus arvicolae & Amalaraeus dissimilis & Amalaraeus ioffi & Amalaraeus penicilliger & \\\\\n",
       "\t\\hline\n",
       "\t& Int64 & Int64 & Int64 & Int64 & \\\\\n",
       "\t\\hline\n",
       "\t1 & 0 & 0 & 0 & 0 & $\\dots$ \\\\\n",
       "\t2 & 0 & 0 & 0 & 0 & $\\dots$ \\\\\n",
       "\t3 & 0 & 0 & 0 & 0 & $\\dots$ \\\\\n",
       "\t4 & 0 & 0 & 0 & 0 & $\\dots$ \\\\\n",
       "\t5 & 0 & 0 & 0 & 0 & $\\dots$ \\\\\n",
       "\t6 & 0 & 0 & 0 & 0 & $\\dots$ \\\\\n",
       "\t7 & 0 & 0 & 0 & 0 & $\\dots$ \\\\\n",
       "\t8 & 0 & 0 & 0 & 0 & $\\dots$ \\\\\n",
       "\t9 & 0 & 0 & 0 & 0 & $\\dots$ \\\\\n",
       "\t10 & 0 & 0 & 0 & 0 & $\\dots$ \\\\\n",
       "\t11 & 0 & 0 & 0 & 0 & $\\dots$ \\\\\n",
       "\\end{tabular}\n"
      ],
      "text/plain": [
       "11×206 DataFrame. Omitted printing of 203 columns\n",
       "│ Row │ Amalaraeus arvicolae │ Amalaraeus dissimilis │ Amalaraeus ioffi │\n",
       "│     │ \u001b[90mInt64\u001b[39m                │ \u001b[90mInt64\u001b[39m                 │ \u001b[90mInt64\u001b[39m            │\n",
       "├─────┼──────────────────────┼───────────────────────┼──────────────────┤\n",
       "│ 1   │ 0                    │ 0                     │ 0                │\n",
       "│ 2   │ 0                    │ 0                     │ 0                │\n",
       "│ 3   │ 0                    │ 0                     │ 0                │\n",
       "│ 4   │ 0                    │ 0                     │ 0                │\n",
       "│ 5   │ 0                    │ 0                     │ 0                │\n",
       "│ 6   │ 0                    │ 0                     │ 0                │\n",
       "│ 7   │ 0                    │ 0                     │ 0                │\n",
       "│ 8   │ 0                    │ 0                     │ 0                │\n",
       "│ 9   │ 0                    │ 0                     │ 0                │\n",
       "│ 10  │ 0                    │ 0                     │ 0                │\n",
       "│ 11  │ 0                    │ 0                     │ 0                │"
      ]
     },
     "execution_count": 6,
     "metadata": {},
     "output_type": "execute_result"
    }
   ],
   "source": [
    "dataset[dataset[:,:Region].==\"Tyva\",4:end]"
   ]
  },
  {
   "cell_type": "code",
   "execution_count": 11,
   "metadata": {},
   "outputs": [
    {
     "data": {
      "text/html": [
       "<table class=\"data-frame\"><thead><tr><th></th><th>Amalaraeus arvicolae</th><th>Amalaraeus dissimilis</th><th>Amalaraeus ioffi</th><th>Amalaraeus penicilliger</th></tr><tr><th></th><th>Int64</th><th>Int64</th><th>Int64</th><th>Int64</th></tr></thead><tbody><p>7 rows × 206 columns (omitted printing of 202 columns)</p><tr><th>1</th><td>0</td><td>0</td><td>0</td><td>0</td></tr><tr><th>2</th><td>0</td><td>0</td><td>0</td><td>0</td></tr><tr><th>3</th><td>0</td><td>0</td><td>0</td><td>0</td></tr><tr><th>4</th><td>0</td><td>0</td><td>0</td><td>0</td></tr><tr><th>5</th><td>0</td><td>0</td><td>0</td><td>0</td></tr><tr><th>6</th><td>0</td><td>0</td><td>0</td><td>0</td></tr><tr><th>7</th><td>0</td><td>0</td><td>0</td><td>0</td></tr></tbody></table>"
      ],
      "text/latex": [
       "\\begin{tabular}{r|ccccc}\n",
       "\t& Amalaraeus arvicolae & Amalaraeus dissimilis & Amalaraeus ioffi & Amalaraeus penicilliger & \\\\\n",
       "\t\\hline\n",
       "\t& Int64 & Int64 & Int64 & Int64 & \\\\\n",
       "\t\\hline\n",
       "\t1 & 0 & 0 & 0 & 0 & $\\dots$ \\\\\n",
       "\t2 & 0 & 0 & 0 & 0 & $\\dots$ \\\\\n",
       "\t3 & 0 & 0 & 0 & 0 & $\\dots$ \\\\\n",
       "\t4 & 0 & 0 & 0 & 0 & $\\dots$ \\\\\n",
       "\t5 & 0 & 0 & 0 & 0 & $\\dots$ \\\\\n",
       "\t6 & 0 & 0 & 0 & 0 & $\\dots$ \\\\\n",
       "\t7 & 0 & 0 & 0 & 0 & $\\dots$ \\\\\n",
       "\\end{tabular}\n"
      ],
      "text/plain": [
       "7×206 DataFrame. Omitted printing of 203 columns\n",
       "│ Row │ Amalaraeus arvicolae │ Amalaraeus dissimilis │ Amalaraeus ioffi │\n",
       "│     │ \u001b[90mInt64\u001b[39m                │ \u001b[90mInt64\u001b[39m                 │ \u001b[90mInt64\u001b[39m            │\n",
       "├─────┼──────────────────────┼───────────────────────┼──────────────────┤\n",
       "│ 1   │ 0                    │ 0                     │ 0                │\n",
       "│ 2   │ 0                    │ 0                     │ 0                │\n",
       "│ 3   │ 0                    │ 0                     │ 0                │\n",
       "│ 4   │ 0                    │ 0                     │ 0                │\n",
       "│ 5   │ 0                    │ 0                     │ 0                │\n",
       "│ 6   │ 0                    │ 0                     │ 0                │\n",
       "│ 7   │ 0                    │ 0                     │ 0                │"
      ]
     },
     "execution_count": 11,
     "metadata": {},
     "output_type": "execute_result"
    }
   ],
   "source": [
    "Y = networks[\"Gissar\"]"
   ]
  },
  {
   "cell_type": "code",
   "execution_count": 12,
   "metadata": {},
   "outputs": [
    {
     "ename": "MethodError",
     "evalue": "MethodError: no method matching iterate(::DataFrame)\nClosest candidates are:\n  iterate(!Matched::Core.SimpleVector) at essentials.jl:589\n  iterate(!Matched::Core.SimpleVector, !Matched::Any) at essentials.jl:589\n  iterate(!Matched::ExponentialBackOff) at error.jl:171\n  ...",
     "output_type": "error",
     "traceback": [
      "MethodError: no method matching iterate(::DataFrame)\nClosest candidates are:\n  iterate(!Matched::Core.SimpleVector) at essentials.jl:589\n  iterate(!Matched::Core.SimpleVector, !Matched::Any) at essentials.jl:589\n  iterate(!Matched::ExponentialBackOff) at error.jl:171\n  ...",
      "",
      "Stacktrace:",
      " [1] mapfoldl_impl(::Function, ::Function, ::NamedTuple{(),Tuple{}}, ::DataFrame) at ./reduce.jl:53",
      " [2] #mapfoldl#170(::Base.Iterators.Pairs{Union{},Union{},Tuple{},NamedTuple{(),Tuple{}}}, ::Function, ::Function, ::Function, ::DataFrame) at ./reduce.jl:70",
      " [3] mapfoldl(::Function, ::Function, ::DataFrame) at ./reduce.jl:70",
      " [4] #mapreduce#174(::Base.Iterators.Pairs{Union{},Union{},Tuple{},NamedTuple{(),Tuple{}}}, ::Function, ::Function, ::Function, ::DataFrame) at ./reduce.jl:203",
      " [5] mapreduce(::Function, ::Function, ::DataFrame) at ./reduce.jl:203",
      " [6] sum(::Function, ::DataFrame) at ./reduce.jl:397",
      " [7] sum(::DataFrame) at ./reduce.jl:414",
      " [8] top-level scope at In[12]:1"
     ]
    }
   ],
   "source": [
    "Y[]"
   ]
  },
  {
   "cell_type": "code",
   "execution_count": 13,
   "metadata": {},
   "outputs": [
    {
     "data": {
      "text/latex": [
       "\\texttt{CSV.read(source; copycols::Bool=false, kwargs...)} => \\texttt{DataFrame}\n",
       "\n",
       "Parses a delimited file into a \\texttt{DataFrame}. \\texttt{copycols} determines whether a copy of columns should be made when creating the DataFrame; by default, no copy is made, and the DataFrame is built with immutable, read-only \\texttt{CSV.Column} vectors. If mutable operations are needed on the DataFrame columns, set \\texttt{copycols=true}.\n",
       "\n",
       "\\texttt{CSV.read} supports the same keyword arguments as \\href{@ref}{\\texttt{CSV.File}}.\n",
       "\n"
      ],
      "text/markdown": [
       "`CSV.read(source; copycols::Bool=false, kwargs...)` => `DataFrame`\n",
       "\n",
       "Parses a delimited file into a `DataFrame`. `copycols` determines whether a copy of columns should be made when creating the DataFrame; by default, no copy is made, and the DataFrame is built with immutable, read-only `CSV.Column` vectors. If mutable operations are needed on the DataFrame columns, set `copycols=true`.\n",
       "\n",
       "`CSV.read` supports the same keyword arguments as [`CSV.File`](@ref).\n"
      ],
      "text/plain": [
       "  \u001b[36mCSV.read(source; copycols::Bool=false, kwargs...)\u001b[39m => \u001b[36mDataFrame\u001b[39m\n",
       "\n",
       "  Parses a delimited file into a \u001b[36mDataFrame\u001b[39m. \u001b[36mcopycols\u001b[39m determines whether a copy\n",
       "  of columns should be made when creating the DataFrame; by default, no copy\n",
       "  is made, and the DataFrame is built with immutable, read-only \u001b[36mCSV.Column\u001b[39m\n",
       "  vectors. If mutable operations are needed on the DataFrame columns, set\n",
       "  \u001b[36mcopycols=true\u001b[39m.\n",
       "\n",
       "  \u001b[36mCSV.read\u001b[39m supports the same keyword arguments as \u001b[36mCSV.File\u001b[39m."
      ]
     },
     "execution_count": 13,
     "metadata": {},
     "output_type": "execute_result"
    }
   ],
   "source": [
    "?CSV.read"
   ]
  },
  {
   "cell_type": "code",
   "execution_count": 14,
   "metadata": {},
   "outputs": [],
   "source": [
    "using EcologicalNetworks"
   ]
  },
  {
   "cell_type": "code",
   "execution_count": 22,
   "metadata": {},
   "outputs": [
    {
     "data": {
      "text/plain": [
       "7×206 bipartite quantitative ecological network (Float64, String) (L: 63)"
      ]
     },
     "execution_count": 22,
     "metadata": {},
     "output_type": "execute_result"
    }
   ],
   "source": [
    "N = BipartiteQuantitativeNetwork(Matrix{Float64}(Y))"
   ]
  },
  {
   "cell_type": "code",
   "execution_count": 24,
   "metadata": {},
   "outputs": [
    {
     "ename": "ErrorException",
     "evalue": "error in method definition: function EcologicalNetworks.species must be explicitly imported to be extended",
     "output_type": "error",
     "traceback": [
      "error in method definition: function EcologicalNetworks.species must be explicitly imported to be extended",
      "",
      "Stacktrace:",
      " [1] top-level scope at In[24]:1"
     ]
    }
   ],
   "source": [
    "species(N, dims=2) = names(Y)"
   ]
  },
  {
   "cell_type": "code",
   "execution_count": 20,
   "metadata": {},
   "outputs": [
    {
     "name": "stdout",
     "output_type": "stream",
     "text": [
      "search: \u001b[0m\u001b[1mB\u001b[22m\u001b[0m\u001b[1mi\u001b[22m\u001b[0m\u001b[1mp\u001b[22m\u001b[0m\u001b[1ma\u001b[22m\u001b[0m\u001b[1mr\u001b[22m\u001b[0m\u001b[1mt\u001b[22m\u001b[0m\u001b[1mi\u001b[22m\u001b[0m\u001b[1mt\u001b[22m\u001b[0m\u001b[1me\u001b[22m\u001b[0m\u001b[1mQ\u001b[22m\u001b[0m\u001b[1mu\u001b[22m\u001b[0m\u001b[1ma\u001b[22m\u001b[0m\u001b[1mn\u001b[22m\u001b[0m\u001b[1mt\u001b[22m\u001b[0m\u001b[1mi\u001b[22m\u001b[0m\u001b[1mt\u001b[22m\u001b[0m\u001b[1ma\u001b[22m\u001b[0m\u001b[1mt\u001b[22m\u001b[0m\u001b[1mi\u001b[22m\u001b[0m\u001b[1mv\u001b[22m\u001b[0m\u001b[1me\u001b[22m\u001b[0m\u001b[1mN\u001b[22m\u001b[0m\u001b[1me\u001b[22m\u001b[0m\u001b[1mt\u001b[22m\u001b[0m\u001b[1mw\u001b[22m\u001b[0m\u001b[1mo\u001b[22m\u001b[0m\u001b[1mr\u001b[22m\u001b[0m\u001b[1mk\u001b[22m\n",
      "\n"
     ]
    },
    {
     "data": {
      "text/latex": [
       "A bipartite quantitative network is matrix of numbers. It is assumed that the interaction strength are \\emph{positive}.\n",
       "\n"
      ],
      "text/markdown": [
       "A bipartite quantitative network is matrix of numbers. It is assumed that the interaction strength are *positive*.\n"
      ],
      "text/plain": [
       "  A bipartite quantitative network is matrix of numbers. It is assumed that\n",
       "  the interaction strength are \u001b[4mpositive\u001b[24m."
      ]
     },
     "execution_count": 20,
     "metadata": {},
     "output_type": "execute_result"
    }
   ],
   "source": [
    "?BipartiteQuantitativeNetwork"
   ]
  },
  {
   "cell_type": "code",
   "execution_count": null,
   "metadata": {},
   "outputs": [],
   "source": []
  }
 ],
 "metadata": {
  "kernelspec": {
   "display_name": "Julia 1.0.4",
   "language": "julia",
   "name": "julia-1.0"
  },
  "language_info": {
   "file_extension": ".jl",
   "mimetype": "application/julia",
   "name": "julia",
   "version": "1.0.4"
  }
 },
 "nbformat": 4,
 "nbformat_minor": 2
}
