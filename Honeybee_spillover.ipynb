{
 "cells": [
  {
   "cell_type": "code",
   "execution_count": 1,
   "metadata": {},
   "outputs": [
    {
     "name": "stderr",
     "output_type": "stream",
     "text": [
      "┌ Info: Recompiling stale cache file /Users/michielstock/.julia/compiled/v1.0/DataFrames/AR9oZ.ji for DataFrames [a93c6f00-e57d-5684-b7b6-d8193f3e46c0]\n",
      "└ @ Base loading.jl:1190\n",
      "┌ Info: Recompiling stale cache file /Users/michielstock/.julia/compiled/v1.0/CSV/HHBkp.ji for CSV [336ed68f-0bac-5ca0-87d4-7b16caf5d00b]\n",
      "└ @ Base loading.jl:1190\n",
      "┌ Info: Recompiling stale cache file /Users/michielstock/.julia/compiled/v1.0/Plots/ld3vC.ji for Plots [91a5bcdd-55d7-5caf-9e0b-520d859cae80]\n",
      "└ @ Base loading.jl:1190\n",
      "┌ Info: Recompiling stale cache file /Users/michielstock/.julia/compiled/v1.0/StatsPlots/SiylL.ji for StatsPlots [f3b207a7-027a-5e70-b257-86293d7955fd]\n",
      "└ @ Base loading.jl:1190\n"
     ]
    }
   ],
   "source": [
    "using DataFrames, CSV\n",
    "using Plots, StatsPlots, Statistics"
   ]
  },
  {
   "cell_type": "code",
   "execution_count": 2,
   "metadata": {},
   "outputs": [
    {
     "data": {
      "text/html": [
       "<table class=\"data-frame\"><thead><tr><th></th><th>country</th><th>year</th><th>site_id</th><th>landscape_type</th><th>transect</th><th>period</th><th>round</th><th>date</th><th>temperature</th></tr><tr><th></th><th>String</th><th>Int64</th><th>String</th><th>String</th><th>Int64</th><th>String</th><th>String</th><th>String</th><th>String</th></tr></thead><tbody><p>5 rows × 23 columns (omitted printing of 14 columns)</p><tr><th>1</th><td>Spain</td><td>2011</td><td>Barca</td><td>high</td><td>1</td><td>after</td><td>3</td><td>5/5/11</td><td>26</td></tr><tr><th>2</th><td>Spain</td><td>2011</td><td>Barca</td><td>high</td><td>1</td><td>after</td><td>3</td><td>5/5/11</td><td>26</td></tr><tr><th>3</th><td>Spain</td><td>2011</td><td>Barca</td><td>high</td><td>1</td><td>after</td><td>3</td><td>5/5/11</td><td>26</td></tr><tr><th>4</th><td>Spain</td><td>2011</td><td>Barca</td><td>high</td><td>1</td><td>after</td><td>3</td><td>5/5/11</td><td>26</td></tr><tr><th>5</th><td>Spain</td><td>2011</td><td>Barca</td><td>high</td><td>1</td><td>after</td><td>3</td><td>5/5/11</td><td>26</td></tr></tbody></table>"
      ],
      "text/latex": [
       "\\begin{tabular}{r|cccccccccc}\n",
       "\t& country & year & site\\_id & landscape\\_type & transect & period & round & date & temperature & \\\\\n",
       "\t\\hline\n",
       "\t& String & Int64 & String & String & Int64 & String & String & String & String & \\\\\n",
       "\t\\hline\n",
       "\t1 & Spain & 2011 & Barca & high & 1 & after & 3 & 5/5/11 & 26 & $\\dots$ \\\\\n",
       "\t2 & Spain & 2011 & Barca & high & 1 & after & 3 & 5/5/11 & 26 & $\\dots$ \\\\\n",
       "\t3 & Spain & 2011 & Barca & high & 1 & after & 3 & 5/5/11 & 26 & $\\dots$ \\\\\n",
       "\t4 & Spain & 2011 & Barca & high & 1 & after & 3 & 5/5/11 & 26 & $\\dots$ \\\\\n",
       "\t5 & Spain & 2011 & Barca & high & 1 & after & 3 & 5/5/11 & 26 & $\\dots$ \\\\\n",
       "\\end{tabular}\n"
      ],
      "text/plain": [
       "5×23 DataFrame. Omitted printing of 17 columns\n",
       "│ Row │ country │ year  │ site_id │ landscape_type │ transect │ period │\n",
       "│     │ \u001b[90mString\u001b[39m  │ \u001b[90mInt64\u001b[39m │ \u001b[90mString\u001b[39m  │ \u001b[90mString\u001b[39m         │ \u001b[90mInt64\u001b[39m    │ \u001b[90mString\u001b[39m │\n",
       "├─────┼─────────┼───────┼─────────┼────────────────┼──────────┼────────┤\n",
       "│ 1   │ Spain   │ 2011  │ Barca   │ high           │ 1        │ after  │\n",
       "│ 2   │ Spain   │ 2011  │ Barca   │ high           │ 1        │ after  │\n",
       "│ 3   │ Spain   │ 2011  │ Barca   │ high           │ 1        │ after  │\n",
       "│ 4   │ Spain   │ 2011  │ Barca   │ high           │ 1        │ after  │\n",
       "│ 5   │ Spain   │ 2011  │ Barca   │ high           │ 1        │ after  │"
      ]
     },
     "execution_count": 2,
     "metadata": {},
     "output_type": "execute_result"
    }
   ],
   "source": [
    "interactions = CSV.read(\"data/Magrach2017_network.csv\")\n",
    "first(interactions, 5)"
   ]
  },
  {
   "cell_type": "code",
   "execution_count": 3,
   "metadata": {},
   "outputs": [
    {
     "data": {
      "text/plain": [
       "23-element Array{Symbol,1}:\n",
       " :country                      \n",
       " :year                         \n",
       " :site_id                      \n",
       " :landscape_type               \n",
       " :transect                     \n",
       " :period                       \n",
       " :round                        \n",
       " :date                         \n",
       " :temperature                  \n",
       " :starting_time                \n",
       " :interval_in_transect         \n",
       " :pollinator_group             \n",
       " :pollinator_genus             \n",
       " :pollinator_species           \n",
       " Symbol(\"pollinator_species.1\")\n",
       " :morpho_descriptions          \n",
       " :collected                    \n",
       " :plant_genus                  \n",
       " :plant_species                \n",
       " :Gen_sp                       \n",
       " :Plant_sp                     \n",
       " :longitude                    \n",
       " :latitude                     "
      ]
     },
     "execution_count": 3,
     "metadata": {},
     "output_type": "execute_result"
    }
   ],
   "source": [
    "names(interactions)"
   ]
  },
  {
   "cell_type": "code",
   "execution_count": 4,
   "metadata": {},
   "outputs": [
    {
     "data": {
      "text/plain": [
       "17-element Array{String,1}:\n",
       " \"Barca\"      \n",
       " \"Bonares\"    \n",
       " \"Cartaya\"    \n",
       " \"Cetrero\"    \n",
       " \"Curva\"      \n",
       " \"Estanque\"   \n",
       " \"Gibraleon\"  \n",
       " \"Gravera\"    \n",
       " \"Lucena\"     \n",
       " \"Menajo\"     \n",
       " \"Niebla\"     \n",
       " \"Pinar\"      \n",
       " \"Redondela\"  \n",
       " \"Rociana\"    \n",
       " \"Villablanca\"\n",
       " \"Viso\"       \n",
       " \"Canal\"      "
      ]
     },
     "execution_count": 4,
     "metadata": {},
     "output_type": "execute_result"
    }
   ],
   "source": [
    "sites = unique(interactions.site_id)"
   ]
  },
  {
   "cell_type": "code",
   "execution_count": 5,
   "metadata": {},
   "outputs": [],
   "source": [
    "pollinators = unique(interactions.pollinator_species);\n",
    "plants = unique(interactions.plant_species);\n",
    "\n",
    "make_inverse_index = l -> Dict(n => i for (i, n) in enumerate(l))\n",
    "\n",
    "pollinators_inv_index = make_inverse_index(pollinators);\n",
    "plants_inv_index = make_inverse_index(plants);"
   ]
  },
  {
   "cell_type": "code",
   "execution_count": 6,
   "metadata": {},
   "outputs": [
    {
     "name": "stdout",
     "output_type": "stream",
     "text": [
      "Plants:\n",
      "- crispus\n",
      "- foetidum\n",
      "- tomentosa\n",
      "- picardii\n",
      "- montana\n",
      "- stoechas\n",
      "- salvifolius\n",
      "- hirsuta\n",
      "- sp\n",
      "- longirostris\n",
      "- oleraceus/asper\n",
      "- ragusina\n",
      "- NA\n",
      "- libanotis\n",
      "- foetidum/villosa\n",
      "- halimifolium\n",
      "- viscosa\n",
      "- suber\n",
      "- coccifera\n",
      "- canescens\n",
      "- ladanifer\n",
      "- scoparius\n",
      "- calycinum\n",
      "- sp_pink\n",
      "- ramosus/aestivus\n",
      "- officinalis\n",
      "- integrifolia\n",
      "- villosa\n",
      "- barbata\n",
      "- (integrifolia)\n",
      "- monspeliensis\n",
      "- plantagineum\n",
      "- lutea/sativa\n",
      "- purpurea\n",
      "- calcitrapae\n",
      "- monogyna\n",
      "- pes-caprae\n",
      "- triacanthos\n",
      "- coronopus\n",
      "- althaeoides\n",
      "- illyricus\n",
      "- fruticans\n",
      "- guttata\n",
      "- rapunculus\n",
      "- capilaris\n",
      "- odora\n",
      "- lusitanica\n",
      "- erithraea\n",
      "- albidus\n",
      "- columbaria\n",
      "- rara\n",
      "- tomentosus\n",
      "- ladanifer_leaves\n",
      "- sphaerocarpa\n",
      "- ilex\n",
      "- longirrostris\n",
      "- lanceolata\n",
      "- albidus&crispus\n",
      "- lentiscus\n"
     ]
    }
   ],
   "source": [
    "println(\"Plants:\")\n",
    "for p in plants\n",
    "    println(\"- $p\")\n",
    "end"
   ]
  },
  {
   "cell_type": "code",
   "execution_count": 7,
   "metadata": {},
   "outputs": [
    {
     "name": "stdout",
     "output_type": "stream",
     "text": [
      "Pollinators:\n",
      "- mellifera\n",
      "- nigroaenea_nigrosericea\n",
      "- venustus\n",
      "- scripta\n",
      "- elongata\n",
      "- arbustorum\n",
      "- vespiforme\n",
      "- sp_large\n",
      "- bimaculata\n",
      "- cyanea\n",
      "- mlokossewiczi\n",
      "- ligurica\n",
      "- cucurbitina\n",
      "- notata\n",
      "- villipes \n",
      "- albocinctum\n",
      "- sticticum\n",
      "- flavipes\n",
      "- sp\n",
      "- collaris\n",
      "- chalybea\n",
      "- ovatula\n",
      "- angustior_impressa\n",
      "- hispaliensis\n",
      "- aurulenta\n",
      "- sp_2\n",
      "- cingulata\n",
      "- banksianus\n",
      "- dargius\n",
      "- rhyssonota_flava\n",
      "- alternans\n",
      "- calcaratus_lagopus\n",
      "- sp_1\n",
      "- septemdentatum\n",
      "- leucozonium\n",
      "- sp_dark_thin\n",
      "- cantabrita\n",
      "- immunitum\n",
      "- hispania\n",
      "- benoisti\n",
      "- immunitum-type\n",
      "- papaveris\n",
      "- foveolaris\n",
      "- setosus\n",
      "- subauratus\n",
      "- mediterraneum\n",
      "- malachurum\n",
      "- malachurum/mediterraneum\n",
      "- sp_Eristalis-alike\n",
      "- signata\n",
      "- mocsaryi\n",
      "- tenax\n",
      "- perezi\n",
      "- discum\n",
      "- balteatus\n",
      "- fulvipes\n",
      "- dargius/cephalotes\n",
      "- pollinosus\n",
      "- notata \n",
      "- sp_immunitum-alike\n",
      "- manicatum\n",
      "- sp_brown\n",
      "- sp_collaris-alike\n",
      "- sp_medium_wide_black&yellow\n",
      "- humilis\n",
      "- villosulum\n",
      "- latifrons\n",
      "- pipiens\n",
      "- florea\n",
      "- leucoleucozonium/immunitum\n",
      "- atroalba\n",
      "- sp_white\n",
      "- rufa\n",
      "- sp_medium\n",
      "- latreillei_iberoafricana\n",
      "- maculata\n",
      "- villosum\n",
      "- antigae\n",
      "- sp_5\n",
      "- sp_tenax-alike\n",
      "- sp_medium_black&yellow(different)\n",
      "- nitidiuscula\n",
      "- spreta\n",
      "- variegatus\n",
      "- sp_3\n",
      "- sp_4\n",
      "- dentiventris\n",
      "- similis\n",
      "- lativentre/sexnotatum/laterale\n",
      "- tenuistriata\n",
      "- capitata\n",
      "- planidens\n",
      "- crenulata\n",
      "- elegans\n",
      "- taeniops\n",
      "- chrysopyga\n",
      "- dispar?\n",
      "- dispar\n",
      "- sp_9\n",
      "- sp_reddish-brown\n",
      "- sp_reddish-brown_large\n",
      "- marginata\n",
      "- ericetorum\n",
      "- sp_small\n",
      "- sp_thin_elongated\n",
      "- vitripennis\n",
      "- sp_medium_thin\n",
      "- costulatum\n",
      "- pumilus\n",
      "- caerulescens\n",
      "- trautmanni\n",
      "- clypeata\n",
      "- sp_7\n",
      "- submicans\n",
      "- acutus\n",
      "- sp1\n",
      "- antigana\n",
      "- latreillei\n",
      "- callizonium\n",
      "- sp2\n",
      "- terrestris\n",
      "- sp_dark_light-face\n",
      "- sp_Villa-alike\n",
      "- zonaria\n",
      "- sp_light\n",
      "- pygmaeum\n",
      "- labialis\n",
      "- aeneus\n",
      "- sp_Eristalis-alike_wider\n",
      "- plumipes\n",
      "- sp_medium_black&yellow\n",
      "- bispinosa\n",
      "- strigatum\n",
      "- violacea\n",
      "- pauperatum\n",
      "- rufa/aurulenta-alike\n",
      "- cauadata\n",
      "- sp_Meliscaeva-alike\n",
      "- sp_smaller-than-previous\n",
      "- leucozonium_cedri\n",
      "- elongatula\n",
      "- rufa/aurulenta\n",
      "- sp_very-large_cream-coloured\n",
      "- sexnotatum\n",
      "- sp_light-stripes_malachurum-sized\n",
      "- albimana\n",
      "- sp_Sphaerophoria?\n",
      "- sp_flavipes-alike\n",
      "- crassicornis\n",
      "- sp_17\n",
      "- sp_chubby_yellow\n",
      "- sp_white_medium\n",
      "- sp_over\n",
      "- deceptoria\n",
      "- nigricans\n",
      "- sp_very-tiny\n",
      "- smaragdulus\n",
      "- gemmeus\n",
      "- sp_medium_greyish\n",
      "- pilidens\n",
      "- opacifrons\n",
      "- muticus\n",
      "- sp_16\n",
      "- sp_med-small\n",
      "- sp_black\n",
      "- sp_large_Apis-alike\n",
      "- scabiosae\n",
      "- sp_20\n",
      "- sp_scabiosae-alike\n",
      "- sp_large_very-black\n",
      "- scutellaris\n",
      "- sp_8\n",
      "- interruptum\n",
      "- thoracica\n",
      "- pauxillum\n",
      "- sp_malachurum-alike\n",
      "- sp_med\n",
      "- quattuordecimnotatus\n",
      "- marginale\n",
      "- sphecodimorphum\n",
      "- selenitica\n",
      "- sp_12\n",
      "- sp_leucozonium_cedri-type\n",
      "- sp_dark\n",
      "- histrionicus\n",
      "- agrestis\n",
      "- sp_immunitum/malachurum-alike\n",
      "- sp_grey_light-face\n",
      "- sicula_hiendlmayri\n",
      "- adunca_contraria\n",
      "- barbiventris\n",
      "- sicula\n",
      "- sp_chubby\n",
      "- sp_18\n",
      "- sp_tiny\n",
      "- punctatus\n",
      "- sp_large_black&white\n",
      "- sexnotatum?\n",
      "- sp_dark_large\n",
      "- hispanica?\n",
      "- villipes\n",
      "- cinerea\n",
      "- sp_wide_black&yellow\n",
      "- capitale\n",
      "- sp_med_large\n",
      "- sp_med_small\n",
      "- sp_wasp-alike\n",
      "- brevicornis\n",
      "- pictus\n",
      "- sp_19\n",
      "- sp_med-large\n",
      "- sp_black_white-spot\n",
      "- sp_14\n",
      "- melathoracica\n",
      "- nobilis\n",
      "- sp_large_cream-coloured\n",
      "- florisomne\n",
      "- albopilosus\n",
      "- mucronatus\n"
     ]
    }
   ],
   "source": [
    "println(\"Pollinators:\")\n",
    "for p in pollinators\n",
    "    println(\"- $p\")\n",
    "end"
   ]
  },
  {
   "cell_type": "code",
   "execution_count": 8,
   "metadata": {},
   "outputs": [
    {
     "data": {
      "text/plain": [
       "make_incidence (generic function with 1 method)"
      ]
     },
     "execution_count": 8,
     "metadata": {},
     "output_type": "execute_result"
    }
   ],
   "source": [
    "function make_incidence(interactions, pl_inv_index, pol_inv_index)\n",
    "    Y = zeros(length(pl_inv_index), length(pol_inv_index))\n",
    "    for (pl, pol, int) in zip(interactions[:plant_species], interactions[:pollinator_species], interactions[:transect])\n",
    "        i, j = pl_inv_index[pl], pol_inv_index[pol]\n",
    "        Y[i,j] += int\n",
    "    end\n",
    "    return Y\n",
    "end"
   ]
  },
  {
   "cell_type": "code",
   "execution_count": 9,
   "metadata": {},
   "outputs": [
    {
     "name": "stderr",
     "output_type": "stream",
     "text": [
      "┌ Warning: `getindex(df::DataFrame, col_ind::ColumnIndex)` is deprecated, use `df[!, col_ind]` instead.\n",
      "│   caller = make_incidence(::DataFrame, ::Dict{String,Int64}, ::Dict{String,Int64}) at In[8]:3\n",
      "└ @ Main ./In[8]:3\n",
      "┌ Warning: `getindex(df::DataFrame, col_ind::ColumnIndex)` is deprecated, use `df[!, col_ind]` instead.\n",
      "│   caller = make_incidence(::DataFrame, ::Dict{String,Int64}, ::Dict{String,Int64}) at In[8]:3\n",
      "└ @ Main ./In[8]:3\n",
      "┌ Warning: `getindex(df::DataFrame, col_ind::ColumnIndex)` is deprecated, use `df[!, col_ind]` instead.\n",
      "│   caller = make_incidence(::DataFrame, ::Dict{String,Int64}, ::Dict{String,Int64}) at In[8]:3\n",
      "└ @ Main ./In[8]:3\n"
     ]
    },
    {
     "data": {
      "text/plain": [
       "59×219 Array{Float64,2}:\n",
       " 4573.0  81.0  1365.0  10.0  3.0   0.0  …  0.0  0.0  0.0  0.0  0.0  2.0  0.0\n",
       "   18.0  16.0     0.0   6.0  0.0  34.0     0.0  0.0  0.0  0.0  0.0  0.0  0.0\n",
       "  419.0   0.0     0.0   0.0  2.0   0.0     0.0  0.0  0.0  0.0  0.0  0.0  0.0\n",
       "    0.0   0.0     0.0   0.0  0.0   2.0     0.0  0.0  0.0  0.0  0.0  0.0  0.0\n",
       "    9.0   2.0     0.0   6.0  0.0   0.0     0.0  0.0  0.0  0.0  0.0  0.0  0.0\n",
       " 2516.0   4.0     0.0   0.0  0.0   0.0  …  0.0  1.0  1.0  2.0  0.0  0.0  0.0\n",
       "  709.0   0.0     0.0   5.0  0.0  27.0     0.0  0.0  0.0  0.0  0.0  2.0  2.0\n",
       "  429.0   0.0     0.0   5.0  0.0   0.0     0.0  0.0  0.0  0.0  0.0  1.0  0.0\n",
       "    0.0   0.0     0.0   0.0  0.0   0.0     0.0  0.0  0.0  0.0  0.0  0.0  0.0\n",
       "    1.0   0.0     0.0   4.0  2.0   1.0     0.0  0.0  0.0  0.0  0.0  0.0  0.0\n",
       "    1.0   0.0     0.0   0.0  1.0   0.0  …  0.0  0.0  0.0  0.0  0.0  0.0  0.0\n",
       "    0.0   0.0     2.0   0.0  1.0   0.0     0.0  0.0  0.0  0.0  0.0  0.0  0.0\n",
       "    0.0   0.0     0.0   0.0  0.0   0.0     0.0  0.0  0.0  0.0  0.0  0.0  0.0\n",
       "    ⋮                              ⋮    ⋱                 ⋮                 \n",
       "    0.0   0.0     0.0   0.0  0.0   0.0     0.0  0.0  0.0  0.0  0.0  0.0  0.0\n",
       "   30.0   6.0     0.0   0.0  0.0   0.0     0.0  0.0  0.0  0.0  0.0  0.0  0.0\n",
       "   11.0   0.0     0.0   0.0  0.0   0.0     0.0  0.0  0.0  0.0  0.0  0.0  0.0\n",
       "    0.0   0.0     0.0   0.0  0.0   0.0  …  0.0  0.0  0.0  0.0  0.0  0.0  0.0\n",
       "    4.0   0.0     0.0   0.0  0.0   0.0     0.0  0.0  0.0  0.0  0.0  0.0  0.0\n",
       "    8.0   0.0     0.0   0.0  0.0   0.0     0.0  0.0  0.0  0.0  0.0  0.0  0.0\n",
       "    4.0   5.0     0.0   0.0  0.0   0.0     0.0  0.0  0.0  0.0  0.0  0.0  0.0\n",
       "   10.0   0.0     0.0   0.0  0.0   0.0     0.0  0.0  0.0  0.0  0.0  0.0  0.0\n",
       "    0.0   0.0     0.0   0.0  0.0   2.0  …  0.0  0.0  0.0  0.0  0.0  0.0  0.0\n",
       "    1.0   0.0     0.0   0.0  0.0   0.0     0.0  0.0  0.0  0.0  0.0  0.0  0.0\n",
       "    0.0   0.0     0.0   0.0  0.0   0.0     0.0  0.0  0.0  0.0  0.0  0.0  0.0\n",
       "   13.0   0.0     0.0   0.0  0.0   0.0     0.0  0.0  0.0  0.0  0.0  0.0  0.0"
      ]
     },
     "execution_count": 9,
     "metadata": {},
     "output_type": "execute_result"
    }
   ],
   "source": [
    "Y = make_incidence(interactions, plants_inv_index, pollinators_inv_index)"
   ]
  },
  {
   "cell_type": "code",
   "execution_count": 10,
   "metadata": {},
   "outputs": [],
   "source": [
    "networks_after = Dict{String, Array{Float64,2}}()\n",
    "networks_during = Dict{String, Array{Float64,2}}()\n",
    "\n",
    "\n",
    "for site in interactions.site_id\n",
    "    interactions_site = interactions[interactions.site_id.==site,:]\n",
    "    Y_after = make_incidence(interactions_site[interactions_site.period.==\"after\",:],\n",
    "                            plants_inv_index, pollinators_inv_index)\n",
    "    Y_during = make_incidence(interactions_site[interactions_site.period.==\"during\",:],\n",
    "                            plants_inv_index, pollinators_inv_index)\n",
    "    \n",
    "    networks_after[site] = Y_after\n",
    "    networks_during[site] = Y_during\n",
    "end"
   ]
  },
  {
   "cell_type": "code",
   "execution_count": 11,
   "metadata": {},
   "outputs": [
    {
     "name": "stdout",
     "output_type": "stream",
     "text": [
      "after\n",
      "\t- Estanque: 434.0 (26)\n",
      "\t- Gravera: 459.0 (26)\n",
      "\t- Villablanca: 305.0 (31)\n",
      "\t- Redondela: 382.0 (51)\n",
      "\t- Bonares: 115.0 (38)\n",
      "\t- Canal: 372.0 (18)\n",
      "\t- Curva: 301.0 (28)\n",
      "\t- Niebla: 192.0 (52)\n",
      "\t- Gibraleon: 277.0 (59)\n",
      "\t- Cetrero: 881.0 (64)\n",
      "\t- Pinar: 863.0 (50)\n",
      "\t- Menajo: 1820.0 (32)\n",
      "\t- Viso: 402.0 (45)\n",
      "\t- Barca: 1608.0 (41)\n",
      "\t- Lucena: 171.0 (49)\n",
      "\t- Cartaya: 526.0 (37)\n",
      "\t- Rociana: 54.0 (19)\n",
      "during\n",
      "\t- Estanque: 340.0 (28)\n",
      "\t- Gravera: 163.0 (25)\n",
      "\t- Villablanca: 346.0 (34)\n",
      "\t- Redondela: 326.0 (26)\n",
      "\t- Bonares: 295.0 (34)\n",
      "\t- Canal: 130.0 (26)\n",
      "\t- Curva: 153.0 (35)\n",
      "\t- Niebla: 173.0 (46)\n",
      "\t- Gibraleon: 327.0 (47)\n",
      "\t- Cetrero: 519.0 (67)\n",
      "\t- Pinar: 559.0 (48)\n",
      "\t- Menajo: 292.0 (24)\n",
      "\t- Viso: 284.0 (44)\n",
      "\t- Barca: 456.0 (56)\n",
      "\t- Lucena: 659.0 (55)\n",
      "\t- Cartaya: 583.0 (42)\n",
      "\t- Rociana: 55.0 (13)\n"
     ]
    }
   ],
   "source": [
    "for (time, networks) in zip([\"after\", \"during\"], [networks_after, networks_during])\n",
    "    println(\"$time\")\n",
    "    for (site, Y) in networks\n",
    "        println(\"\\t- $site: $(sum(Y)) ($(sum(Y.>0)))\")\n",
    "    end\n",
    "end"
   ]
  },
  {
   "cell_type": "code",
   "execution_count": 12,
   "metadata": {},
   "outputs": [],
   "source": [
    "using OTSIN"
   ]
  },
  {
   "cell_type": "markdown",
   "metadata": {},
   "source": [
    "Transform the observed interaction matrices in probability matrices. Add small pseudocount $\\alpha$ for numerical purposes."
   ]
  },
  {
   "cell_type": "code",
   "execution_count": 13,
   "metadata": {
    "scrolled": true
   },
   "outputs": [],
   "source": [
    "Ps = [(Y .+ 1e-2) |> OTSIN.normalize for Y in values(networks_after)];"
   ]
  },
  {
   "cell_type": "markdown",
   "metadata": {},
   "source": [
    "We fit a global utility matrix, based on the different assumptions which distributions are fixed. This is done using the observed interactions after the honeybee spillover."
   ]
  },
  {
   "cell_type": "code",
   "execution_count": 15,
   "metadata": {},
   "outputs": [
    {
     "data": {
      "text/plain": [
       "0.01"
      ]
     },
     "execution_count": 15,
     "metadata": {},
     "output_type": "execute_result"
    }
   ],
   "source": [
    "γ = 1e-2"
   ]
  },
  {
   "cell_type": "code",
   "execution_count": null,
   "metadata": {},
   "outputs": [],
   "source": [
    "@time M_ab = fitM(Ps, fix_a=true, fix_b=true, maxitter=10, γ=γ, reg=L1());"
   ]
  },
  {
   "cell_type": "code",
   "execution_count": null,
   "metadata": {},
   "outputs": [],
   "source": [
    "@time M_a = fitM(Ps, fix_a=true, fix_b=false, γ=γ, reg=L1());"
   ]
  },
  {
   "cell_type": "code",
   "execution_count": null,
   "metadata": {},
   "outputs": [],
   "source": [
    "@time M_b = fitM(Ps, fix_a=false, fix_b=true, γ=γ);"
   ]
  },
  {
   "cell_type": "code",
   "execution_count": null,
   "metadata": {},
   "outputs": [],
   "source": [
    "@time M = fitM(Ps, fix_a=false, fix_b=false, γ=γ);"
   ]
  },
  {
   "cell_type": "code",
   "execution_count": null,
   "metadata": {},
   "outputs": [],
   "source": [
    "plot(heatmap(M), heatmap(M_a),\n",
    "        heatmap(M_b), heatmap(M_ab))"
   ]
  },
  {
   "cell_type": "code",
   "execution_count": null,
   "metadata": {},
   "outputs": [],
   "source": [
    "Ps_during = [(Y ) |> OTSIN.normalize for Y in values(networks_during)];"
   ]
  },
  {
   "cell_type": "code",
   "execution_count": null,
   "metadata": {},
   "outputs": [],
   "source": [
    "kl_ot_ab = Float64[]\n",
    "kl_ot_a = Float64[]\n",
    "kl_ot_b = Float64[]\n",
    "kl_ot_softmax = Float64[]\n",
    "kl_ot_neutral = Float64[]\n",
    "\n",
    "for P′ in Ps_during\n",
    "    a, b = marginals(P′)\n",
    "    P′ = P′[a.>0, b.>0]\n",
    "    M = M_ab[a.>0, b.>0]\n",
    "    a, b = marginals(P′)\n",
    "    # optimal transport both\n",
    "    Q = optimaltransport(10M, a, b)\n",
    "    push!(kl_ot_ab, KL(P′, Q))\n",
    "    Q .= optimaltransport(10M, a, nothing)\n",
    "    push!(kl_ot_a, KL(P′, Q))\n",
    "    Q .= optimaltransport(10M, nothing, b)\n",
    "    push!(kl_ot_b, KL(P′, Q))\n",
    "    Q .= optimaltransport(M, nothing, nothing)\n",
    "    push!(kl_ot_softmax, KL(P′, Q))\n",
    "    Q .= optimaltransport(a, b)\n",
    "    push!(kl_ot_neutral, KL(P′, Q))\n",
    "end\n"
   ]
  },
  {
   "cell_type": "code",
   "execution_count": null,
   "metadata": {},
   "outputs": [],
   "source": [
    "M_ab"
   ]
  },
  {
   "cell_type": "code",
   "execution_count": 23,
   "metadata": {
    "scrolled": false
   },
   "outputs": [
    {
     "data": {
      "image/svg+xml": [
       "<?xml version=\"1.0\" encoding=\"utf-8\"?>\n",
       "<svg xmlns=\"http://www.w3.org/2000/svg\" xmlns:xlink=\"http://www.w3.org/1999/xlink\" width=\"600\" height=\"400\" viewBox=\"0 0 2400 1600\">\n",
       "<defs>\n",
       "  <clipPath id=\"clip4600\">\n",
       "    <rect x=\"0\" y=\"0\" width=\"2400\" height=\"1600\"/>\n",
       "  </clipPath>\n",
       "</defs>\n",
       "<polygon clip-path=\"url(#clip4600)\" points=\"\n",
       "0,1600 2400,1600 2400,0 0,0 \n",
       "  \" fill=\"#ffffff\" fill-rule=\"evenodd\" fill-opacity=\"1\"/>\n",
       "<defs>\n",
       "  <clipPath id=\"clip4601\">\n",
       "    <rect x=\"480\" y=\"0\" width=\"1681\" height=\"1600\"/>\n",
       "  </clipPath>\n",
       "</defs>\n",
       "<polygon clip-path=\"url(#clip4600)\" points=\"\n",
       "202.373,1487.47 2352.76,1487.47 2352.76,47.2441 202.373,47.2441 \n",
       "  \" fill=\"#ffffff\" fill-rule=\"evenodd\" fill-opacity=\"1\"/>\n",
       "<defs>\n",
       "  <clipPath id=\"clip4602\">\n",
       "    <rect x=\"202\" y=\"47\" width=\"2151\" height=\"1441\"/>\n",
       "  </clipPath>\n",
       "</defs>\n",
       "<polyline clip-path=\"url(#clip4602)\" style=\"stroke:#000000; stroke-width:2; stroke-opacity:0.1; fill:none\" points=\"\n",
       "  432.288,1487.47 432.288,47.2441 \n",
       "  \"/>\n",
       "<polyline clip-path=\"url(#clip4602)\" style=\"stroke:#000000; stroke-width:2; stroke-opacity:0.1; fill:none\" points=\"\n",
       "  854.926,1487.47 854.926,47.2441 \n",
       "  \"/>\n",
       "<polyline clip-path=\"url(#clip4602)\" style=\"stroke:#000000; stroke-width:2; stroke-opacity:0.1; fill:none\" points=\"\n",
       "  1277.56,1487.47 1277.56,47.2441 \n",
       "  \"/>\n",
       "<polyline clip-path=\"url(#clip4602)\" style=\"stroke:#000000; stroke-width:2; stroke-opacity:0.1; fill:none\" points=\"\n",
       "  1700.2,1487.47 1700.2,47.2441 \n",
       "  \"/>\n",
       "<polyline clip-path=\"url(#clip4602)\" style=\"stroke:#000000; stroke-width:2; stroke-opacity:0.1; fill:none\" points=\"\n",
       "  2122.84,1487.47 2122.84,47.2441 \n",
       "  \"/>\n",
       "<polyline clip-path=\"url(#clip4602)\" style=\"stroke:#000000; stroke-width:2; stroke-opacity:0.1; fill:none\" points=\"\n",
       "  202.373,1461.1 2352.76,1461.1 \n",
       "  \"/>\n",
       "<polyline clip-path=\"url(#clip4602)\" style=\"stroke:#000000; stroke-width:2; stroke-opacity:0.1; fill:none\" points=\"\n",
       "  202.373,1001.36 2352.76,1001.36 \n",
       "  \"/>\n",
       "<polyline clip-path=\"url(#clip4602)\" style=\"stroke:#000000; stroke-width:2; stroke-opacity:0.1; fill:none\" points=\"\n",
       "  202.373,541.613 2352.76,541.613 \n",
       "  \"/>\n",
       "<polyline clip-path=\"url(#clip4602)\" style=\"stroke:#000000; stroke-width:2; stroke-opacity:0.1; fill:none\" points=\"\n",
       "  202.373,81.8669 2352.76,81.8669 \n",
       "  \"/>\n",
       "<polyline clip-path=\"url(#clip4600)\" style=\"stroke:#000000; stroke-width:4; stroke-opacity:1; fill:none\" points=\"\n",
       "  202.373,1487.47 2352.76,1487.47 \n",
       "  \"/>\n",
       "<polyline clip-path=\"url(#clip4600)\" style=\"stroke:#000000; stroke-width:4; stroke-opacity:1; fill:none\" points=\"\n",
       "  202.373,1487.47 202.373,47.2441 \n",
       "  \"/>\n",
       "<polyline clip-path=\"url(#clip4600)\" style=\"stroke:#000000; stroke-width:4; stroke-opacity:1; fill:none\" points=\"\n",
       "  432.288,1487.47 432.288,1465.87 \n",
       "  \"/>\n",
       "<polyline clip-path=\"url(#clip4600)\" style=\"stroke:#000000; stroke-width:4; stroke-opacity:1; fill:none\" points=\"\n",
       "  854.926,1487.47 854.926,1465.87 \n",
       "  \"/>\n",
       "<polyline clip-path=\"url(#clip4600)\" style=\"stroke:#000000; stroke-width:4; stroke-opacity:1; fill:none\" points=\"\n",
       "  1277.56,1487.47 1277.56,1465.87 \n",
       "  \"/>\n",
       "<polyline clip-path=\"url(#clip4600)\" style=\"stroke:#000000; stroke-width:4; stroke-opacity:1; fill:none\" points=\"\n",
       "  1700.2,1487.47 1700.2,1465.87 \n",
       "  \"/>\n",
       "<polyline clip-path=\"url(#clip4600)\" style=\"stroke:#000000; stroke-width:4; stroke-opacity:1; fill:none\" points=\"\n",
       "  2122.84,1487.47 2122.84,1465.87 \n",
       "  \"/>\n",
       "<polyline clip-path=\"url(#clip4600)\" style=\"stroke:#000000; stroke-width:4; stroke-opacity:1; fill:none\" points=\"\n",
       "  202.373,1461.1 234.629,1461.1 \n",
       "  \"/>\n",
       "<polyline clip-path=\"url(#clip4600)\" style=\"stroke:#000000; stroke-width:4; stroke-opacity:1; fill:none\" points=\"\n",
       "  202.373,1001.36 234.629,1001.36 \n",
       "  \"/>\n",
       "<polyline clip-path=\"url(#clip4600)\" style=\"stroke:#000000; stroke-width:4; stroke-opacity:1; fill:none\" points=\"\n",
       "  202.373,541.613 234.629,541.613 \n",
       "  \"/>\n",
       "<polyline clip-path=\"url(#clip4600)\" style=\"stroke:#000000; stroke-width:4; stroke-opacity:1; fill:none\" points=\"\n",
       "  202.373,81.8669 234.629,81.8669 \n",
       "  \"/>\n",
       "<g clip-path=\"url(#clip4600)\">\n",
       "<text style=\"fill:#000000; fill-opacity:1; font-family:Arial,Helvetica Neue,Helvetica,sans-serif; font-size:48px; text-anchor:middle;\" transform=\"rotate(0, 432.288, 1541.47)\" x=\"432.288\" y=\"1541.47\">neutral</text>\n",
       "</g>\n",
       "<g clip-path=\"url(#clip4600)\">\n",
       "<text style=\"fill:#000000; fill-opacity:1; font-family:Arial,Helvetica Neue,Helvetica,sans-serif; font-size:48px; text-anchor:middle;\" transform=\"rotate(0, 854.926, 1541.47)\" x=\"854.926\" y=\"1541.47\">OT (both)</text>\n",
       "</g>\n",
       "<g clip-path=\"url(#clip4600)\">\n",
       "<text style=\"fill:#000000; fill-opacity:1; font-family:Arial,Helvetica Neue,Helvetica,sans-serif; font-size:48px; text-anchor:middle;\" transform=\"rotate(0, 1277.56, 1541.47)\" x=\"1277.56\" y=\"1541.47\">OT (plants fixed)</text>\n",
       "</g>\n",
       "<g clip-path=\"url(#clip4600)\">\n",
       "<text style=\"fill:#000000; fill-opacity:1; font-family:Arial,Helvetica Neue,Helvetica,sans-serif; font-size:48px; text-anchor:middle;\" transform=\"rotate(0, 1700.2, 1541.47)\" x=\"1700.2\" y=\"1541.47\">OT (poll. fixed)</text>\n",
       "</g>\n",
       "<g clip-path=\"url(#clip4600)\">\n",
       "<text style=\"fill:#000000; fill-opacity:1; font-family:Arial,Helvetica Neue,Helvetica,sans-serif; font-size:48px; text-anchor:middle;\" transform=\"rotate(0, 2122.84, 1541.47)\" x=\"2122.84\" y=\"1541.47\">OT (none)</text>\n",
       "</g>\n",
       "<g clip-path=\"url(#clip4600)\">\n",
       "<text style=\"fill:#000000; fill-opacity:1; font-family:Arial,Helvetica Neue,Helvetica,sans-serif; font-size:48px; text-anchor:end;\" transform=\"rotate(0, 178.373, 1478.6)\" x=\"178.373\" y=\"1478.6\">0</text>\n",
       "</g>\n",
       "<g clip-path=\"url(#clip4600)\">\n",
       "<text style=\"fill:#000000; fill-opacity:1; font-family:Arial,Helvetica Neue,Helvetica,sans-serif; font-size:48px; text-anchor:end;\" transform=\"rotate(0, 178.373, 1018.86)\" x=\"178.373\" y=\"1018.86\">10</text>\n",
       "</g>\n",
       "<g clip-path=\"url(#clip4600)\">\n",
       "<text style=\"fill:#000000; fill-opacity:1; font-family:Arial,Helvetica Neue,Helvetica,sans-serif; font-size:48px; text-anchor:end;\" transform=\"rotate(0, 178.373, 559.113)\" x=\"178.373\" y=\"559.113\">20</text>\n",
       "</g>\n",
       "<g clip-path=\"url(#clip4600)\">\n",
       "<text style=\"fill:#000000; fill-opacity:1; font-family:Arial,Helvetica Neue,Helvetica,sans-serif; font-size:48px; text-anchor:end;\" transform=\"rotate(0, 178.373, 99.3669)\" x=\"178.373\" y=\"99.3669\">30</text>\n",
       "</g>\n",
       "<g clip-path=\"url(#clip4600)\">\n",
       "<text style=\"fill:#000000; fill-opacity:1; font-family:Arial,Helvetica Neue,Helvetica,sans-serif; font-size:66px; text-anchor:middle;\" transform=\"rotate(-90, 89.2861, 767.359)\" x=\"89.2861\" y=\"767.359\">Kullback-Leibler (nats)</text>\n",
       "</g>\n",
       "<polygon clip-path=\"url(#clip4602)\" points=\"\n",
       "432.288,1446.71 263.233,1446.71 601.343,1446.71 432.288,1446.71 432.288,1442.9 432.288,1446.71 \n",
       "  \" fill=\"#009af9\" fill-rule=\"evenodd\" fill-opacity=\"1\"/>\n",
       "<polyline clip-path=\"url(#clip4602)\" style=\"stroke:#000000; stroke-width:4; stroke-opacity:1; fill:none\" points=\"\n",
       "  432.288,1446.71 263.233,1446.71 601.343,1446.71 432.288,1446.71 432.288,1442.9 432.288,1446.71 \n",
       "  \"/>\n",
       "<polygon clip-path=\"url(#clip4602)\" points=\"\n",
       "263.233,1442.9 263.233,1431.68 601.343,1431.68 601.343,1442.9 263.233,1442.9 263.233,1442.9 \n",
       "  \" fill=\"#009af9\" fill-rule=\"evenodd\" fill-opacity=\"1\"/>\n",
       "<polyline clip-path=\"url(#clip4602)\" style=\"stroke:#000000; stroke-width:4; stroke-opacity:1; fill:none\" points=\"\n",
       "  263.233,1442.9 263.233,1431.68 601.343,1431.68 601.343,1442.9 263.233,1442.9 \n",
       "  \"/>\n",
       "<polygon clip-path=\"url(#clip4602)\" points=\"\n",
       "263.233,1423.88 263.233,1431.68 601.343,1431.68 601.343,1423.88 263.233,1423.88 263.233,1423.88 \n",
       "  \" fill=\"#009af9\" fill-rule=\"evenodd\" fill-opacity=\"1\"/>\n",
       "<polyline clip-path=\"url(#clip4602)\" style=\"stroke:#000000; stroke-width:4; stroke-opacity:1; fill:none\" points=\"\n",
       "  263.233,1423.88 263.233,1431.68 601.343,1431.68 601.343,1423.88 263.233,1423.88 \n",
       "  \"/>\n",
       "<polygon clip-path=\"url(#clip4602)\" points=\"\n",
       "432.288,1404 263.233,1404 601.343,1404 432.288,1404 432.288,1423.88 432.288,1404 \n",
       "  \" fill=\"#009af9\" fill-rule=\"evenodd\" fill-opacity=\"1\"/>\n",
       "<polyline clip-path=\"url(#clip4602)\" style=\"stroke:#000000; stroke-width:4; stroke-opacity:1; fill:none\" points=\"\n",
       "  432.288,1404 263.233,1404 601.343,1404 432.288,1404 432.288,1423.88 432.288,1404 \n",
       "  \"/>\n",
       "<polygon clip-path=\"url(#clip4602)\" points=\"\n",
       "854.926,1368.16 685.871,1368.16 1023.98,1368.16 854.926,1368.16 854.926,1291.58 854.926,1368.16 \n",
       "  \" fill=\"#e26f46\" fill-rule=\"evenodd\" fill-opacity=\"1\"/>\n",
       "<polyline clip-path=\"url(#clip4602)\" style=\"stroke:#000000; stroke-width:4; stroke-opacity:1; fill:none\" points=\"\n",
       "  854.926,1368.16 685.871,1368.16 1023.98,1368.16 854.926,1368.16 854.926,1291.58 854.926,1368.16 \n",
       "  \"/>\n",
       "<polygon clip-path=\"url(#clip4602)\" points=\"\n",
       "685.871,1291.58 685.871,1246.66 1023.98,1246.66 1023.98,1291.58 685.871,1291.58 685.871,1291.58 \n",
       "  \" fill=\"#e26f46\" fill-rule=\"evenodd\" fill-opacity=\"1\"/>\n",
       "<polyline clip-path=\"url(#clip4602)\" style=\"stroke:#000000; stroke-width:4; stroke-opacity:1; fill:none\" points=\"\n",
       "  685.871,1291.58 685.871,1246.66 1023.98,1246.66 1023.98,1291.58 685.871,1291.58 \n",
       "  \"/>\n",
       "<polygon clip-path=\"url(#clip4602)\" points=\"\n",
       "685.871,1210.51 685.871,1246.66 1023.98,1246.66 1023.98,1210.51 685.871,1210.51 685.871,1210.51 \n",
       "  \" fill=\"#e26f46\" fill-rule=\"evenodd\" fill-opacity=\"1\"/>\n",
       "<polyline clip-path=\"url(#clip4602)\" style=\"stroke:#000000; stroke-width:4; stroke-opacity:1; fill:none\" points=\"\n",
       "  685.871,1210.51 685.871,1246.66 1023.98,1246.66 1023.98,1210.51 685.871,1210.51 \n",
       "  \"/>\n",
       "<polygon clip-path=\"url(#clip4602)\" points=\"\n",
       "854.926,1096.28 685.871,1096.28 1023.98,1096.28 854.926,1096.28 854.926,1210.51 854.926,1096.28 \n",
       "  \" fill=\"#e26f46\" fill-rule=\"evenodd\" fill-opacity=\"1\"/>\n",
       "<polyline clip-path=\"url(#clip4602)\" style=\"stroke:#000000; stroke-width:4; stroke-opacity:1; fill:none\" points=\"\n",
       "  854.926,1096.28 685.871,1096.28 1023.98,1096.28 854.926,1096.28 854.926,1210.51 854.926,1096.28 \n",
       "  \"/>\n",
       "<circle clip-path=\"url(#clip4602)\" style=\"fill:#000000; stroke:none; fill-opacity:1\" cx=\"1277.56\" cy=\"88.0053\" r=\"18\"/>\n",
       "<circle clip-path=\"url(#clip4602)\" style=\"fill:#3da44d; stroke:none; fill-opacity:1\" cx=\"1277.56\" cy=\"88.0053\" r=\"14\"/>\n",
       "<circle clip-path=\"url(#clip4602)\" style=\"fill:#000000; stroke:none; fill-opacity:1\" cx=\"1277.56\" cy=\"141.232\" r=\"18\"/>\n",
       "<circle clip-path=\"url(#clip4602)\" style=\"fill:#3da44d; stroke:none; fill-opacity:1\" cx=\"1277.56\" cy=\"141.232\" r=\"14\"/>\n",
       "<polygon clip-path=\"url(#clip4602)\" points=\"\n",
       "1277.56,1202.79 1108.51,1202.79 1446.62,1202.79 1277.56,1202.79 1277.56,1016.63 1277.56,1202.79 \n",
       "  \" fill=\"#3da44d\" fill-rule=\"evenodd\" fill-opacity=\"1\"/>\n",
       "<polyline clip-path=\"url(#clip4602)\" style=\"stroke:#000000; stroke-width:4; stroke-opacity:1; fill:none\" points=\"\n",
       "  1277.56,1202.79 1108.51,1202.79 1446.62,1202.79 1277.56,1202.79 1277.56,1016.63 1277.56,1202.79 \n",
       "  \"/>\n",
       "<polygon clip-path=\"url(#clip4602)\" points=\"\n",
       "1108.51,1016.63 1108.51,837.29 1446.62,837.29 1446.62,1016.63 1108.51,1016.63 1108.51,1016.63 \n",
       "  \" fill=\"#3da44d\" fill-rule=\"evenodd\" fill-opacity=\"1\"/>\n",
       "<polyline clip-path=\"url(#clip4602)\" style=\"stroke:#000000; stroke-width:4; stroke-opacity:1; fill:none\" points=\"\n",
       "  1108.51,1016.63 1108.51,837.29 1446.62,837.29 1446.62,1016.63 1108.51,1016.63 \n",
       "  \"/>\n",
       "<polygon clip-path=\"url(#clip4602)\" points=\"\n",
       "1108.51,723.25 1108.51,837.29 1446.62,837.29 1446.62,723.25 1108.51,723.25 1108.51,723.25 \n",
       "  \" fill=\"#3da44d\" fill-rule=\"evenodd\" fill-opacity=\"1\"/>\n",
       "<polyline clip-path=\"url(#clip4602)\" style=\"stroke:#000000; stroke-width:4; stroke-opacity:1; fill:none\" points=\"\n",
       "  1108.51,723.25 1108.51,837.29 1446.62,837.29 1446.62,723.25 1108.51,723.25 \n",
       "  \"/>\n",
       "<polygon clip-path=\"url(#clip4602)\" points=\"\n",
       "1277.56,569.283 1108.51,569.283 1446.62,569.283 1277.56,569.283 1277.56,723.25 1277.56,569.283 \n",
       "  \" fill=\"#3da44d\" fill-rule=\"evenodd\" fill-opacity=\"1\"/>\n",
       "<polyline clip-path=\"url(#clip4602)\" style=\"stroke:#000000; stroke-width:4; stroke-opacity:1; fill:none\" points=\"\n",
       "  1277.56,569.283 1108.51,569.283 1446.62,569.283 1277.56,569.283 1277.56,723.25 1277.56,569.283 \n",
       "  \"/>\n",
       "<polygon clip-path=\"url(#clip4602)\" points=\"\n",
       "1700.2,1133.88 1531.15,1133.88 1869.26,1133.88 1700.2,1133.88 1700.2,863.351 1700.2,1133.88 \n",
       "  \" fill=\"#c271d2\" fill-rule=\"evenodd\" fill-opacity=\"1\"/>\n",
       "<polyline clip-path=\"url(#clip4602)\" style=\"stroke:#000000; stroke-width:4; stroke-opacity:1; fill:none\" points=\"\n",
       "  1700.2,1133.88 1531.15,1133.88 1869.26,1133.88 1700.2,1133.88 1700.2,863.351 1700.2,1133.88 \n",
       "  \"/>\n",
       "<polygon clip-path=\"url(#clip4602)\" points=\"\n",
       "1531.15,863.351 1531.15,762.745 1869.26,762.745 1869.26,863.351 1531.15,863.351 1531.15,863.351 \n",
       "  \" fill=\"#c271d2\" fill-rule=\"evenodd\" fill-opacity=\"1\"/>\n",
       "<polyline clip-path=\"url(#clip4602)\" style=\"stroke:#000000; stroke-width:4; stroke-opacity:1; fill:none\" points=\"\n",
       "  1531.15,863.351 1531.15,762.745 1869.26,762.745 1869.26,863.351 1531.15,863.351 \n",
       "  \"/>\n",
       "<polygon clip-path=\"url(#clip4602)\" points=\"\n",
       "1531.15,582.485 1531.15,762.745 1869.26,762.745 1869.26,582.485 1531.15,582.485 1531.15,582.485 \n",
       "  \" fill=\"#c271d2\" fill-rule=\"evenodd\" fill-opacity=\"1\"/>\n",
       "<polyline clip-path=\"url(#clip4602)\" style=\"stroke:#000000; stroke-width:4; stroke-opacity:1; fill:none\" points=\"\n",
       "  1531.15,582.485 1531.15,762.745 1869.26,762.745 1869.26,582.485 1531.15,582.485 \n",
       "  \"/>\n",
       "<polygon clip-path=\"url(#clip4602)\" points=\"\n",
       "1700.2,219.734 1531.15,219.734 1869.26,219.734 1700.2,219.734 1700.2,582.485 1700.2,219.734 \n",
       "  \" fill=\"#c271d2\" fill-rule=\"evenodd\" fill-opacity=\"1\"/>\n",
       "<polyline clip-path=\"url(#clip4602)\" style=\"stroke:#000000; stroke-width:4; stroke-opacity:1; fill:none\" points=\"\n",
       "  1700.2,219.734 1531.15,219.734 1869.26,219.734 1700.2,219.734 1700.2,582.485 1700.2,219.734 \n",
       "  \"/>\n",
       "<polygon clip-path=\"url(#clip4602)\" points=\"\n",
       "2122.84,1337.34 1953.79,1337.34 2291.9,1337.34 2122.84,1337.34 2122.84,1297.84 2122.84,1337.34 \n",
       "  \" fill=\"#ac8d18\" fill-rule=\"evenodd\" fill-opacity=\"1\"/>\n",
       "<polyline clip-path=\"url(#clip4602)\" style=\"stroke:#000000; stroke-width:4; stroke-opacity:1; fill:none\" points=\"\n",
       "  2122.84,1337.34 1953.79,1337.34 2291.9,1337.34 2122.84,1337.34 2122.84,1297.84 2122.84,1337.34 \n",
       "  \"/>\n",
       "<polygon clip-path=\"url(#clip4602)\" points=\"\n",
       "1953.79,1297.84 1953.79,1277.88 2291.9,1277.88 2291.9,1297.84 1953.79,1297.84 1953.79,1297.84 \n",
       "  \" fill=\"#ac8d18\" fill-rule=\"evenodd\" fill-opacity=\"1\"/>\n",
       "<polyline clip-path=\"url(#clip4602)\" style=\"stroke:#000000; stroke-width:4; stroke-opacity:1; fill:none\" points=\"\n",
       "  1953.79,1297.84 1953.79,1277.88 2291.9,1277.88 2291.9,1297.84 1953.79,1297.84 \n",
       "  \"/>\n",
       "<polygon clip-path=\"url(#clip4602)\" points=\"\n",
       "1953.79,1265.53 1953.79,1277.88 2291.9,1277.88 2291.9,1265.53 1953.79,1265.53 1953.79,1265.53 \n",
       "  \" fill=\"#ac8d18\" fill-rule=\"evenodd\" fill-opacity=\"1\"/>\n",
       "<polyline clip-path=\"url(#clip4602)\" style=\"stroke:#000000; stroke-width:4; stroke-opacity:1; fill:none\" points=\"\n",
       "  1953.79,1265.53 1953.79,1277.88 2291.9,1277.88 2291.9,1265.53 1953.79,1265.53 \n",
       "  \"/>\n",
       "<polygon clip-path=\"url(#clip4602)\" points=\"\n",
       "2122.84,1246 1953.79,1246 2291.9,1246 2122.84,1246 2122.84,1265.53 2122.84,1246 \n",
       "  \" fill=\"#ac8d18\" fill-rule=\"evenodd\" fill-opacity=\"1\"/>\n",
       "<polyline clip-path=\"url(#clip4602)\" style=\"stroke:#000000; stroke-width:4; stroke-opacity:1; fill:none\" points=\"\n",
       "  2122.84,1246 1953.79,1246 2291.9,1246 2122.84,1246 2122.84,1265.53 2122.84,1246 \n",
       "  \"/>\n",
       "</svg>\n"
      ]
     },
     "execution_count": 23,
     "metadata": {},
     "output_type": "execute_result"
    }
   ],
   "source": [
    "p_mut = boxplot(kl_ot_neutral, label=\"neutral\", legend=:none)\n",
    "boxplot!(kl_ot_ab, label=\"OT (both)\")\n",
    "boxplot!(kl_ot_a, label=\"OT (plants fixed)\")\n",
    "boxplot!(kl_ot_b, label=\"OT (poll. fixed)\")\n",
    "boxplot!(kl_ot_softmax, label=\"OT (none)\")\n",
    "ylabel!(\"Kullback-Leibler (nats)\")\n",
    "xticks!(1:5, [\"neutral\", \"OT (both)\", \"OT (plants fixed)\", \"OT (poll. fixed)\", \"OT (none)\"])"
   ]
  },
  {
   "cell_type": "code",
   "execution_count": 24,
   "metadata": {},
   "outputs": [],
   "source": [
    "savefig(p_mut, \"figures/mutnetwork.svg\")"
   ]
  },
  {
   "cell_type": "code",
   "execution_count": 25,
   "metadata": {},
   "outputs": [
    {
     "data": {
      "text/plain": [
       "17-element Array{Float64,1}:\n",
       " -2.54783592050224  \n",
       " -1.5839039268004846\n",
       " -1.5468685568358622\n",
       " -3.9438361270128444\n",
       " -4.846735353287201 \n",
       " -3.851380761518233 \n",
       " -3.875152768456476 \n",
       " -4.721806556597337 \n",
       " -4.26082248932366  \n",
       " -5.699954505379763 \n",
       " -3.293045350861213 \n",
       " -3.3753262189162507\n",
       " -7.101426705029337 \n",
       " -4.024312568423024 \n",
       " -5.34853678110784  \n",
       " -3.352107388338885 \n",
       " -2.484933347864559 "
      ]
     },
     "execution_count": 25,
     "metadata": {},
     "output_type": "execute_result"
    }
   ],
   "source": [
    "Δkl = kl_ot_neutral - kl_ot_ab"
   ]
  },
  {
   "cell_type": "code",
   "execution_count": 26,
   "metadata": {},
   "outputs": [
    {
     "data": {
      "text/plain": [
       "-11.126470555127437"
      ]
     },
     "execution_count": 26,
     "metadata": {},
     "output_type": "execute_result"
    }
   ],
   "source": [
    "mean(Δkl) / (std(Δkl) / √(length(Δkl)))"
   ]
  },
  {
   "cell_type": "markdown",
   "metadata": {},
   "source": [
    "## Comparing individual networks"
   ]
  },
  {
   "cell_type": "code",
   "execution_count": null,
   "metadata": {},
   "outputs": [
    {
     "name": "stdout",
     "output_type": "stream",
     "text": [
      "Estanque\n"
     ]
    }
   ],
   "source": [
    "γ = 1e-5\n",
    "\n",
    "kl_ot_ab = Float64[]\n",
    "kl_ot_a = Float64[]\n",
    "kl_ot_b = Float64[]\n",
    "kl_ot_softmax = Float64[]\n",
    "kl_ot_neutral = Float64[]\n",
    "\n",
    "M_fitted = []\n",
    "\n",
    "for location in keys(networks_after)\n",
    "    println(\"$location\")\n",
    "    Pa = networks_after[location]\n",
    "    Pa .= OTSIN.normalize(Pa .+ 1e-5)\n",
    "    M = fitM(Pa, γ=γ)\n",
    "    Pd = networks_during[location]\n",
    "    a, b = marginals(Pd)\n",
    "    Pd = Pd[a.>0, b.>0] |> OTSIN.normalize\n",
    "    M = M[a.>0, b.>0]\n",
    "    push!(M_fitted, M)\n",
    "    a, b = marginals(Pd)\n",
    "    # optimal transport both\n",
    "    Q = optimaltransport(M, a, b)\n",
    "    push!(kl_ot_ab, KL(Pd, Q))\n",
    "    Q .= optimaltransport(M, a, nothing)\n",
    "    push!(kl_ot_a, KL(Pd, Q))\n",
    "    Q .= optimaltransport(M, nothing, b)\n",
    "    push!(kl_ot_b, KL(Pd, Q))\n",
    "    Q .= optimaltransport(M, nothing, nothing)\n",
    "    push!(kl_ot_softmax, KL(Pd, Q))\n",
    "    Q .= optimaltransport(a, b)\n",
    "    push!(kl_ot_neutral, KL(Pd, Q))\n",
    "end"
   ]
  },
  {
   "cell_type": "code",
   "execution_count": null,
   "metadata": {
    "scrolled": true
   },
   "outputs": [],
   "source": [
    "p_mut = boxplot(kl_ot_neutral, label=\"neutral\", legend=:none)\n",
    "boxplot!(kl_ot_ab, label=\"OT (both)\")\n",
    "boxplot!(kl_ot_a, label=\"OT (plants fixed)\")\n",
    "boxplot!(kl_ot_b, label=\"OT (poll. fixed)\")\n",
    "boxplot!(kl_ot_softmax, label=\"OT (none)\")\n",
    "ylabel!(\"Kullback-Leibler (nats)\")\n",
    "xticks!(1:5, [\"neutral\", \"OT (both)\", \"OT (plants fixed)\", \"OT (poll. fixed)\", \"OT (none)\"])"
   ]
  },
  {
   "cell_type": "code",
   "execution_count": null,
   "metadata": {},
   "outputs": [],
   "source": [
    "M_fitted"
   ]
  },
  {
   "cell_type": "code",
   "execution_count": null,
   "metadata": {},
   "outputs": [],
   "source": [
    "kl_ot_neutral"
   ]
  },
  {
   "cell_type": "code",
   "execution_count": null,
   "metadata": {},
   "outputs": [],
   "source": []
  }
 ],
 "metadata": {
  "@webio": {
   "lastCommId": null,
   "lastKernelId": null
  },
  "kernelspec": {
   "display_name": "Julia 1.0.4",
   "language": "julia",
   "name": "julia-1.0"
  },
  "language_info": {
   "file_extension": ".jl",
   "mimetype": "application/julia",
   "name": "julia",
   "version": "1.0.4"
  }
 },
 "nbformat": 4,
 "nbformat_minor": 2
}
